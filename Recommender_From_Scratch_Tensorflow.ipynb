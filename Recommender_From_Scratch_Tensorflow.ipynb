{
  "cells": [
    {
      "cell_type": "markdown",
      "metadata": {
        "id": "view-in-github",
        "colab_type": "text"
      },
      "source": [
        "<a href=\"https://colab.research.google.com/github/Andre-Williams22/fashion-recommendation-system/blob/master/Recommender_From_Scratch_Tensorflow.ipynb\" target=\"_parent\"><img src=\"https://colab.research.google.com/assets/colab-badge.svg\" alt=\"Open In Colab\"/></a>"
      ]
    },
    {
      "cell_type": "markdown",
      "metadata": {
        "id": "AIDkLnEMkhHR"
      },
      "source": [
        "\n",
        "## User and Product Vector Recommendation Model"
      ]
    },
    {
      "cell_type": "code",
      "source": [
        "!pip install keras_resnet"
      ],
      "metadata": {
        "colab": {
          "base_uri": "https://localhost:8080/"
        },
        "id": "mCFavZC51htL",
        "outputId": "59f97fc9-603b-42e8-8565-9e26a82cfb50"
      },
      "execution_count": 1,
      "outputs": [
        {
          "output_type": "stream",
          "name": "stdout",
          "text": [
            "Collecting keras_resnet\n",
            "  Downloading keras-resnet-0.2.0.tar.gz (9.3 kB)\n",
            "Requirement already satisfied: keras>=2.2.4 in /usr/local/lib/python3.7/dist-packages (from keras_resnet) (2.7.0)\n",
            "Building wheels for collected packages: keras-resnet\n",
            "  Building wheel for keras-resnet (setup.py) ... \u001b[?25l\u001b[?25hdone\n",
            "  Created wheel for keras-resnet: filename=keras_resnet-0.2.0-py2.py3-none-any.whl size=20486 sha256=3228766c46bc3955daae5ef1cdd54a909814dc18252a0659bdaafa331f182b76\n",
            "  Stored in directory: /root/.cache/pip/wheels/bd/ef/06/5d65f696360436c3a423020c4b7fd8c558c09ef264a0e6c575\n",
            "Successfully built keras-resnet\n",
            "Installing collected packages: keras-resnet\n",
            "Successfully installed keras-resnet-0.2.0\n"
          ]
        }
      ]
    },
    {
      "cell_type": "markdown",
      "source": [
        "## Steps for building our Model "
      ],
      "metadata": {
        "id": "4VBZQ7InT7nu"
      }
    },
    {
      "cell_type": "markdown",
      "source": [
        "1. Pick random numbers for each customer and each product \n",
        "2. Find a score for each customer and product \n",
        "3. Rank according to these scores \n",
        "4. Tweak the customer and user vectors to get better rankings "
      ],
      "metadata": {
        "id": "XxtnRuZJT7kZ"
      }
    },
    {
      "cell_type": "markdown",
      "source": [
        "## Goals \n",
        "We started off with random numbers but over time two things happen:\n",
        "1. Overtime our user vector captures the taste and preferences of the user. \n",
        "2. The product vector captures the product style and features.\n",
        "\n",
        "\n",
        "Because if I purchase three items and you purchase 2 of those 3 items then my user vector is probably similar in that these items both have high scores for the two products we have in common. And naturally you would get a high score for the 3rd product I bought that you didn't; hence, the 3rd product I bought would be recommended to the user. \n"
      ],
      "metadata": {
        "id": "lBCe5XjFT7hv"
      }
    },
    {
      "cell_type": "markdown",
      "source": [
        ""
      ],
      "metadata": {
        "id": "GVW2GqaAT7e7"
      }
    },
    {
      "cell_type": "markdown",
      "source": [
        ""
      ],
      "metadata": {
        "id": "QDFEfg3GT7bL"
      }
    },
    {
      "cell_type": "markdown",
      "source": [
        "## Potential Success Metrics "
      ],
      "metadata": {
        "id": "BHkN3u-XTaU1"
      }
    },
    {
      "cell_type": "markdown",
      "source": [
        "We know our model is good if the items the user buys is ranked at the top of our list for ranks for the user."
      ],
      "metadata": {
        "id": "NXwA3CSETdg1"
      }
    },
    {
      "cell_type": "code",
      "source": [
        ""
      ],
      "metadata": {
        "id": "r1liV7tnTcxy"
      },
      "execution_count": 1,
      "outputs": []
    },
    {
      "cell_type": "code",
      "source": [
        ""
      ],
      "metadata": {
        "id": "BSSMjFBMTcvD"
      },
      "execution_count": 1,
      "outputs": []
    },
    {
      "cell_type": "code",
      "source": [
        ""
      ],
      "metadata": {
        "id": "mwIR46lvTcsP"
      },
      "execution_count": 1,
      "outputs": []
    },
    {
      "cell_type": "markdown",
      "metadata": {
        "id": "_YqsWCGfkhHV"
      },
      "source": [
        "# Imports"
      ]
    },
    {
      "cell_type": "code",
      "execution_count": 2,
      "metadata": {
        "id": "Ud0z0L2wkhHW"
      },
      "outputs": [],
      "source": [
        "import numpy as np\n",
        "import pandas as pd\n",
        "import tensorflow as tf\n",
        "import os"
      ]
    },
    {
      "cell_type": "code",
      "source": [
        "import tensorflow as tf\n",
        "import keras\n",
        "from keras import Model\n",
        "tf.__version__"
      ],
      "metadata": {
        "colab": {
          "base_uri": "https://localhost:8080/",
          "height": 35
        },
        "id": "MepBcSL91eZ_",
        "outputId": "ac315f9c-9a8d-453c-e6b0-27e626bbcd80"
      },
      "execution_count": 11,
      "outputs": [
        {
          "output_type": "execute_result",
          "data": {
            "application/vnd.google.colaboratory.intrinsic+json": {
              "type": "string"
            },
            "text/plain": [
              "'2.7.0'"
            ]
          },
          "metadata": {},
          "execution_count": 11
        }
      ]
    },
    {
      "cell_type": "markdown",
      "metadata": {
        "id": "5f98CQuQkhHX"
      },
      "source": [
        "# Import training data"
      ]
    },
    {
      "cell_type": "code",
      "execution_count": 12,
      "metadata": {
        "id": "N9gk2pJEkhHX"
      },
      "outputs": [],
      "source": [
        "train = pd.read_parquet(\"https://raw.githubusercontent.com/ASOS/dsf2020/main/dsf_asos_train_with_alphanumeric_dummy_ids.parquet\")\n",
        "valid = pd.read_parquet(\"https://raw.githubusercontent.com/ASOS/dsf2020/main/dsf_asos_valid_with_alphanumeric_dummy_ids.parquet\")\n",
        "dummy_users = pd.read_csv(\"https://raw.githubusercontent.com/ASOS/dsf2020/main/dsf_asos_dummy_users_with_alphanumeric_dummy_ids.csv\", header=None).values.flatten().astype(str)\n",
        "products = pd.read_csv(\"https://raw.githubusercontent.com/ASOS/dsf2020/main/dsf_asos_productIds.csv\", header=None).values.flatten().astype(int)"
      ]
    },
    {
      "cell_type": "code",
      "source": [
        "from google.colab import drive\n",
        "drive.mount('/content/drive')"
      ],
      "metadata": {
        "id": "pAx4jKTwknCr",
        "colab": {
          "base_uri": "https://localhost:8080/"
        },
        "outputId": "0ca43c3c-0a2a-475e-9a4e-3e9c326a541b"
      },
      "execution_count": 13,
      "outputs": [
        {
          "output_type": "stream",
          "name": "stdout",
          "text": [
            "Mounted at /content/drive\n"
          ]
        }
      ]
    },
    {
      "cell_type": "code",
      "source": [
        "# train.to_csv('train_with_alphanumeric_dummy_and_product_ids.csv')\n",
        "# valid.to_csv('valid_with_alphanumeric_dummy_and_product_ids.csv')"
      ],
      "metadata": {
        "id": "P3TyrMDPnz7T"
      },
      "execution_count": 14,
      "outputs": []
    },
    {
      "cell_type": "code",
      "source": [
        ""
      ],
      "metadata": {
        "id": "Z0Am_LlTnz-0"
      },
      "execution_count": 14,
      "outputs": []
    },
    {
      "cell_type": "code",
      "source": [
        "train.shape, valid.shape, dummy_users.shape, products.shape"
      ],
      "metadata": {
        "colab": {
          "base_uri": "https://localhost:8080/"
        },
        "id": "_vMKj_oAn0Bo",
        "outputId": "4a474b14-ac1a-480b-ea53-775dd6f3b85a"
      },
      "execution_count": 15,
      "outputs": [
        {
          "output_type": "execute_result",
          "data": {
            "text/plain": [
              "((165042, 2), (35567, 2), (43607,), (29696,))"
            ]
          },
          "metadata": {},
          "execution_count": 15
        }
      ]
    },
    {
      "cell_type": "code",
      "source": [
        "train.shape"
      ],
      "metadata": {
        "colab": {
          "base_uri": "https://localhost:8080/"
        },
        "id": "JBtFZ8kUlBeP",
        "outputId": "dae4b61d-12ff-40cf-bd5b-39e1ea1ebd1d"
      },
      "execution_count": 16,
      "outputs": [
        {
          "output_type": "execute_result",
          "data": {
            "text/plain": [
              "(165042, 2)"
            ]
          },
          "metadata": {},
          "execution_count": 16
        }
      ]
    },
    {
      "cell_type": "code",
      "source": [
        "valid.shape"
      ],
      "metadata": {
        "colab": {
          "base_uri": "https://localhost:8080/"
        },
        "id": "RqORHtVulMu2",
        "outputId": "35b9226d-898c-4a37-cecb-d8cf707c360a"
      },
      "execution_count": 17,
      "outputs": [
        {
          "output_type": "execute_result",
          "data": {
            "text/plain": [
              "(35567, 2)"
            ]
          },
          "metadata": {},
          "execution_count": 17
        }
      ]
    },
    {
      "cell_type": "code",
      "source": [
        "train"
      ],
      "metadata": {
        "colab": {
          "base_uri": "https://localhost:8080/",
          "height": 419
        },
        "id": "Uk4rXCAv9bVZ",
        "outputId": "e89277ce-af3b-4ab5-e1a8-6431599270e4"
      },
      "execution_count": 18,
      "outputs": [
        {
          "output_type": "execute_result",
          "data": {
            "text/html": [
              "<div>\n",
              "<style scoped>\n",
              "    .dataframe tbody tr th:only-of-type {\n",
              "        vertical-align: middle;\n",
              "    }\n",
              "\n",
              "    .dataframe tbody tr th {\n",
              "        vertical-align: top;\n",
              "    }\n",
              "\n",
              "    .dataframe thead th {\n",
              "        text-align: right;\n",
              "    }\n",
              "</style>\n",
              "<table border=\"1\" class=\"dataframe\">\n",
              "  <thead>\n",
              "    <tr style=\"text-align: right;\">\n",
              "      <th></th>\n",
              "      <th>dummyUserId</th>\n",
              "      <th>productId</th>\n",
              "    </tr>\n",
              "  </thead>\n",
              "  <tbody>\n",
              "    <tr>\n",
              "      <th>0</th>\n",
              "      <td>b'PIXcm7Ru5KmntCy0yA1K'</td>\n",
              "      <td>10524048</td>\n",
              "    </tr>\n",
              "    <tr>\n",
              "      <th>1</th>\n",
              "      <td>b'd0RILFB1hUzNSINMY4Ow'</td>\n",
              "      <td>9137713</td>\n",
              "    </tr>\n",
              "    <tr>\n",
              "      <th>2</th>\n",
              "      <td>b'Ebax7lyhnKRm4xeRlWW2'</td>\n",
              "      <td>5808602</td>\n",
              "    </tr>\n",
              "    <tr>\n",
              "      <th>3</th>\n",
              "      <td>b'vtigDw2h2vxKt0sJpEeU'</td>\n",
              "      <td>10548272</td>\n",
              "    </tr>\n",
              "    <tr>\n",
              "      <th>4</th>\n",
              "      <td>b'r4GfiEaUGxziyjX0PyU6'</td>\n",
              "      <td>10988173</td>\n",
              "    </tr>\n",
              "    <tr>\n",
              "      <th>...</th>\n",
              "      <td>...</td>\n",
              "      <td>...</td>\n",
              "    </tr>\n",
              "    <tr>\n",
              "      <th>165037</th>\n",
              "      <td>b'7Eom5Ancozj01ozGxAMK'</td>\n",
              "      <td>9071435</td>\n",
              "    </tr>\n",
              "    <tr>\n",
              "      <th>165038</th>\n",
              "      <td>b'zi9vZETHqSIZK0TM2nZc'</td>\n",
              "      <td>10413104</td>\n",
              "    </tr>\n",
              "    <tr>\n",
              "      <th>165039</th>\n",
              "      <td>b'fVCveec9P946asY5wqGm'</td>\n",
              "      <td>9859881</td>\n",
              "    </tr>\n",
              "    <tr>\n",
              "      <th>165040</th>\n",
              "      <td>b'VJtfpw602SZHh2qwarK4'</td>\n",
              "      <td>10809487</td>\n",
              "    </tr>\n",
              "    <tr>\n",
              "      <th>165041</th>\n",
              "      <td>b'D8BlXaKnJHXmxgwfSZzE'</td>\n",
              "      <td>8752491</td>\n",
              "    </tr>\n",
              "  </tbody>\n",
              "</table>\n",
              "<p>165042 rows × 2 columns</p>\n",
              "</div>"
            ],
            "text/plain": [
              "                    dummyUserId  productId\n",
              "0       b'PIXcm7Ru5KmntCy0yA1K'   10524048\n",
              "1       b'd0RILFB1hUzNSINMY4Ow'    9137713\n",
              "2       b'Ebax7lyhnKRm4xeRlWW2'    5808602\n",
              "3       b'vtigDw2h2vxKt0sJpEeU'   10548272\n",
              "4       b'r4GfiEaUGxziyjX0PyU6'   10988173\n",
              "...                         ...        ...\n",
              "165037  b'7Eom5Ancozj01ozGxAMK'    9071435\n",
              "165038  b'zi9vZETHqSIZK0TM2nZc'   10413104\n",
              "165039  b'fVCveec9P946asY5wqGm'    9859881\n",
              "165040  b'VJtfpw602SZHh2qwarK4'   10809487\n",
              "165041  b'D8BlXaKnJHXmxgwfSZzE'    8752491\n",
              "\n",
              "[165042 rows x 2 columns]"
            ]
          },
          "metadata": {},
          "execution_count": 18
        }
      ]
    },
    {
      "cell_type": "code",
      "source": [
        "valid"
      ],
      "metadata": {
        "colab": {
          "base_uri": "https://localhost:8080/",
          "height": 419
        },
        "id": "DwBGEu9zlMxW",
        "outputId": "bf089bb1-f71c-4dbf-ec8c-7ac4717510e6"
      },
      "execution_count": 19,
      "outputs": [
        {
          "output_type": "execute_result",
          "data": {
            "text/html": [
              "<div>\n",
              "<style scoped>\n",
              "    .dataframe tbody tr th:only-of-type {\n",
              "        vertical-align: middle;\n",
              "    }\n",
              "\n",
              "    .dataframe tbody tr th {\n",
              "        vertical-align: top;\n",
              "    }\n",
              "\n",
              "    .dataframe thead th {\n",
              "        text-align: right;\n",
              "    }\n",
              "</style>\n",
              "<table border=\"1\" class=\"dataframe\">\n",
              "  <thead>\n",
              "    <tr style=\"text-align: right;\">\n",
              "      <th></th>\n",
              "      <th>dummyUserId</th>\n",
              "      <th>productId</th>\n",
              "    </tr>\n",
              "  </thead>\n",
              "  <tbody>\n",
              "    <tr>\n",
              "      <th>0</th>\n",
              "      <td>b'I4Yc5Ztur3UNwY5SdvDh'</td>\n",
              "      <td>10093853</td>\n",
              "    </tr>\n",
              "    <tr>\n",
              "      <th>1</th>\n",
              "      <td>b'nhWgcxEVY7jQ3MvvNxWL'</td>\n",
              "      <td>12306408</td>\n",
              "    </tr>\n",
              "    <tr>\n",
              "      <th>2</th>\n",
              "      <td>b'3vriQXKwG095rvR1MSrz'</td>\n",
              "      <td>11858310</td>\n",
              "    </tr>\n",
              "    <tr>\n",
              "      <th>3</th>\n",
              "      <td>b'MA8KmOxkGd1JQ42GXDGO'</td>\n",
              "      <td>10072124</td>\n",
              "    </tr>\n",
              "    <tr>\n",
              "      <th>4</th>\n",
              "      <td>b'vax7VgJnswdiC8iHZSCi'</td>\n",
              "      <td>10596405</td>\n",
              "    </tr>\n",
              "    <tr>\n",
              "      <th>...</th>\n",
              "      <td>...</td>\n",
              "      <td>...</td>\n",
              "    </tr>\n",
              "    <tr>\n",
              "      <th>35562</th>\n",
              "      <td>b'A5uRhbiMu4vlKCB9A0rc'</td>\n",
              "      <td>8496251</td>\n",
              "    </tr>\n",
              "    <tr>\n",
              "      <th>35563</th>\n",
              "      <td>b'VVyZSPXhX62iE9AtPDen'</td>\n",
              "      <td>11935204</td>\n",
              "    </tr>\n",
              "    <tr>\n",
              "      <th>35564</th>\n",
              "      <td>b'8ACEWhSBG4eyhzHmwf4C'</td>\n",
              "      <td>10494419</td>\n",
              "    </tr>\n",
              "    <tr>\n",
              "      <th>35565</th>\n",
              "      <td>b'bSTkDJMjlco6hheq9lTQ'</td>\n",
              "      <td>11270014</td>\n",
              "    </tr>\n",
              "    <tr>\n",
              "      <th>35566</th>\n",
              "      <td>b'4Ls1jafYhagdbxxDS9ci'</td>\n",
              "      <td>10636194</td>\n",
              "    </tr>\n",
              "  </tbody>\n",
              "</table>\n",
              "<p>35567 rows × 2 columns</p>\n",
              "</div>"
            ],
            "text/plain": [
              "                   dummyUserId  productId\n",
              "0      b'I4Yc5Ztur3UNwY5SdvDh'   10093853\n",
              "1      b'nhWgcxEVY7jQ3MvvNxWL'   12306408\n",
              "2      b'3vriQXKwG095rvR1MSrz'   11858310\n",
              "3      b'MA8KmOxkGd1JQ42GXDGO'   10072124\n",
              "4      b'vax7VgJnswdiC8iHZSCi'   10596405\n",
              "...                        ...        ...\n",
              "35562  b'A5uRhbiMu4vlKCB9A0rc'    8496251\n",
              "35563  b'VVyZSPXhX62iE9AtPDen'   11935204\n",
              "35564  b'8ACEWhSBG4eyhzHmwf4C'   10494419\n",
              "35565  b'bSTkDJMjlco6hheq9lTQ'   11270014\n",
              "35566  b'4Ls1jafYhagdbxxDS9ci'   10636194\n",
              "\n",
              "[35567 rows x 2 columns]"
            ]
          },
          "metadata": {},
          "execution_count": 19
        }
      ]
    },
    {
      "cell_type": "code",
      "source": [
        "dummy_users"
      ],
      "metadata": {
        "colab": {
          "base_uri": "https://localhost:8080/"
        },
        "id": "nHHVFtqllMzw",
        "outputId": "f49b1c26-3a61-4514-8961-9954fed7da8c"
      },
      "execution_count": 20,
      "outputs": [
        {
          "output_type": "execute_result",
          "data": {
            "text/plain": [
              "array(['pmfkU4BNZhmtLgJQwJ7x', 'UDRRwOlzlWVbu7H8YCCi',\n",
              "       'QHGAef0TI6dhn0wTogvW', ..., 'lcORJ5hemOZc1iGo9z7k',\n",
              "       '5CqDquDAszqJp27P7AL8', 'SSPNYxJMfuKhoe1dg24m'], dtype='<U20')"
            ]
          },
          "metadata": {},
          "execution_count": 20
        }
      ]
    },
    {
      "cell_type": "code",
      "source": [
        "products"
      ],
      "metadata": {
        "colab": {
          "base_uri": "https://localhost:8080/"
        },
        "id": "-hDFdlatlSEn",
        "outputId": "a03db82e-321f-44b8-da63-e9e626195b33"
      },
      "execution_count": 21,
      "outputs": [
        {
          "output_type": "execute_result",
          "data": {
            "text/plain": [
              "array([ 8650774,  9306139,  9961521, ..., 12058614, 12058615, 11927550])"
            ]
          },
          "metadata": {},
          "execution_count": 21
        }
      ]
    },
    {
      "cell_type": "markdown",
      "metadata": {
        "id": "FZvRM42_khHf"
      },
      "source": [
        "# Define a Recommender Model"
      ]
    },
    {
      "cell_type": "markdown",
      "metadata": {
        "id": "7VTtDFyzkhHf"
      },
      "source": [
        "The embedding layer gives a list of random numbers for each user and each product."
      ]
    },
    {
      "cell_type": "code",
      "execution_count": 22,
      "metadata": {
        "id": "LbKXzKinkhHf"
      },
      "outputs": [],
      "source": [
        "embed1= tf.keras.layers.Embedding(5, 8)"
      ]
    },
    {
      "cell_type": "code",
      "source": [
        "embed1(2)"
      ],
      "metadata": {
        "colab": {
          "base_uri": "https://localhost:8080/"
        },
        "id": "RB7AC_0CaaZ5",
        "outputId": "21aee13a-5125-4061-d861-72dfc7e5fddd"
      },
      "execution_count": 23,
      "outputs": [
        {
          "output_type": "execute_result",
          "data": {
            "text/plain": [
              "<tf.Tensor: shape=(8,), dtype=float32, numpy=\n",
              "array([ 0.01134228, -0.00071181, -0.04613136,  0.01131717,  0.04415751,\n",
              "        0.03265735,  0.03003417,  0.01619543], dtype=float32)>"
            ]
          },
          "metadata": {},
          "execution_count": 23
        }
      ]
    },
    {
      "cell_type": "code",
      "source": [
        "embed1.get_weights()"
      ],
      "metadata": {
        "colab": {
          "base_uri": "https://localhost:8080/"
        },
        "id": "TPWbGICwaelA",
        "outputId": "ce588ec2-bf54-4725-8688-c95cfe641993"
      },
      "execution_count": 24,
      "outputs": [
        {
          "output_type": "execute_result",
          "data": {
            "text/plain": [
              "[array([[ 0.00553378, -0.03432848, -0.00446044, -0.03160959,  0.04659954,\n",
              "          0.00285913,  0.02077935, -0.01533008],\n",
              "        [ 0.00661918,  0.04777214, -0.01108087, -0.02085702,  0.01950866,\n",
              "          0.02604799,  0.04205657, -0.02668432],\n",
              "        [ 0.01134228, -0.00071181, -0.04613136,  0.01131717,  0.04415751,\n",
              "          0.03265735,  0.03003417,  0.01619543],\n",
              "        [-0.01576966, -0.01180685, -0.04220375, -0.00179936,  0.0349973 ,\n",
              "         -0.02003375, -0.00542346, -0.01737714],\n",
              "        [ 0.01708038,  0.04596308,  0.03740125, -0.04706345,  0.04394009,\n",
              "         -0.0206771 ,  0.04210819,  0.04616683]], dtype=float32)]"
            ]
          },
          "metadata": {},
          "execution_count": 24
        }
      ]
    },
    {
      "cell_type": "markdown",
      "metadata": {
        "id": "iCXpya1CkhHf"
      },
      "source": [
        "Scores can be found using the dot product."
      ]
    },
    {
      "cell_type": "code",
      "execution_count": 25,
      "metadata": {
        "id": "U6JyrGf7khHg"
      },
      "outputs": [],
      "source": [
        "# create an embedding for users and products \n",
        "\n",
        "# pass in list length of dummy users\n",
        "dummy_user_embedding = tf.keras.layers.Embedding(len(dummy_users), 6)\n",
        "product_embedding = tf.keras.layers.Embedding(len(products), 6)"
      ]
    },
    {
      "cell_type": "code",
      "source": [
        "# find embedding from first user\n",
        "dummy_user_embedding(1)\n"
      ],
      "metadata": {
        "colab": {
          "base_uri": "https://localhost:8080/"
        },
        "id": "p3GD5uWSbGP3",
        "outputId": "826054d7-c899-4cc0-e455-798bc683f86e"
      },
      "execution_count": 26,
      "outputs": [
        {
          "output_type": "execute_result",
          "data": {
            "text/plain": [
              "<tf.Tensor: shape=(6,), dtype=float32, numpy=\n",
              "array([ 0.0077244 ,  0.03596382, -0.04919672,  0.04469961, -0.01508667,\n",
              "       -0.00804823], dtype=float32)>"
            ]
          },
          "metadata": {},
          "execution_count": 26
        }
      ]
    },
    {
      "cell_type": "code",
      "source": [
        "# grab embeddings of a specific product \n",
        "product_embedding(20)"
      ],
      "metadata": {
        "colab": {
          "base_uri": "https://localhost:8080/"
        },
        "id": "ZzFIUnicbS2k",
        "outputId": "38372992-8fa2-43dc-81c5-d1aad94de381"
      },
      "execution_count": 27,
      "outputs": [
        {
          "output_type": "execute_result",
          "data": {
            "text/plain": [
              "<tf.Tensor: shape=(6,), dtype=float32, numpy=\n",
              "array([-0.04205021,  0.01066536, -0.02175217, -0.01927186, -0.02585499,\n",
              "       -0.04035393], dtype=float32)>"
            ]
          },
          "metadata": {},
          "execution_count": 27
        }
      ]
    },
    {
      "cell_type": "code",
      "source": [
        "# multiply the product embedding and user embedding together \n",
        "tf.tensordot(dummy_user_embedding(1), product_embedding(20), axes=[[0], [0]])"
      ],
      "metadata": {
        "colab": {
          "base_uri": "https://localhost:8080/"
        },
        "id": "uAe2GnU4bS5l",
        "outputId": "99dba396-ec57-4a89-df65-8856187eea53"
      },
      "execution_count": 28,
      "outputs": [
        {
          "output_type": "execute_result",
          "data": {
            "text/plain": [
              "<tf.Tensor: shape=(), dtype=float32, numpy=0.000982288>"
            ]
          },
          "metadata": {},
          "execution_count": 28
        }
      ]
    },
    {
      "cell_type": "markdown",
      "metadata": {
        "id": "7__e1aDkkhHg"
      },
      "source": [
        "We can score multiple products at the same time, which is what we need to create a ranking."
      ]
    },
    {
      "cell_type": "code",
      "execution_count": 29,
      "metadata": {
        "id": "x_RwPWUIkhHg",
        "colab": {
          "base_uri": "https://localhost:8080/"
        },
        "outputId": "34718392-4c9f-4cef-e200-8c3817bd1e37"
      },
      "outputs": [
        {
          "output_type": "execute_result",
          "data": {
            "text/plain": [
              "<tf.Tensor: shape=(4, 6), dtype=float32, numpy=\n",
              "array([[ 0.04414732, -0.02179394,  0.00709669, -0.00265307,  0.01048913,\n",
              "         0.04217174],\n",
              "       [-0.031643  ,  0.02694793, -0.0142641 ,  0.02123118,  0.0341704 ,\n",
              "         0.03573424],\n",
              "       [-0.02723848, -0.04511378, -0.04691534,  0.03485561,  0.00365376,\n",
              "        -0.02157381],\n",
              "       [-0.02272536,  0.00721973,  0.02097309, -0.00396943, -0.02678778,\n",
              "        -0.04204319]], dtype=float32)>"
            ]
          },
          "metadata": {},
          "execution_count": 29
        }
      ],
      "source": [
        "example_products = tf.constant([1, 77, 104, 2043])\n",
        "product_embedding(example_products)"
      ]
    },
    {
      "cell_type": "markdown",
      "metadata": {
        "id": "cVZ55IFXkhHg"
      },
      "source": [
        "And we can score multiple users for multiple products which we will need to do if we are to train quickly."
      ]
    },
    {
      "cell_type": "code",
      "source": [
        "tf.tensordot(dummy_user_embedding(1), product_embedding(example_products), axes=[[0], [1]])\n"
      ],
      "metadata": {
        "colab": {
          "base_uri": "https://localhost:8080/"
        },
        "id": "vr7kpA4_b73S",
        "outputId": "cb6f6ab7-e721-4d38-adfc-e455b146f7b9"
      },
      "execution_count": 30,
      "outputs": [
        {
          "output_type": "execute_result",
          "data": {
            "text/plain": [
              "<tf.Tensor: shape=(4,), dtype=float32, numpy=array([-0.00140816,  0.00157238,  0.00215176, -0.00038262], dtype=float32)>"
            ]
          },
          "metadata": {},
          "execution_count": 30
        }
      ]
    },
    {
      "cell_type": "code",
      "execution_count": 30,
      "metadata": {
        "id": "Q6tVSuL4khHg"
      },
      "outputs": [],
      "source": [
        ""
      ]
    },
    {
      "cell_type": "markdown",
      "metadata": {
        "id": "DAwQQHb3khHg"
      },
      "source": [
        "But we need to map product ids to embedding ids."
      ]
    },
    {
      "cell_type": "code",
      "source": [
        "products"
      ],
      "metadata": {
        "colab": {
          "base_uri": "https://localhost:8080/"
        },
        "id": "fdsneHRncuxI",
        "outputId": "1d8d7042-1354-4b02-ed2a-01340eade232"
      },
      "execution_count": 31,
      "outputs": [
        {
          "output_type": "execute_result",
          "data": {
            "text/plain": [
              "array([ 8650774,  9306139,  9961521, ..., 12058614, 12058615, 11927550])"
            ]
          },
          "metadata": {},
          "execution_count": 31
        }
      ]
    },
    {
      "cell_type": "code",
      "source": [
        ""
      ],
      "metadata": {
        "id": "hrYtzfMOcuZF"
      },
      "execution_count": 31,
      "outputs": []
    },
    {
      "cell_type": "code",
      "execution_count": 32,
      "metadata": {
        "id": "0XxfkcTOkhHh"
      },
      "outputs": [],
      "source": [
        "# need a way to convert list of products into a hashtable to grab them by their name\n",
        "product_table = tf.lookup.StaticHashTable(\n",
        "    tf.lookup.KeyValueTensorInitializer(tf.constant(products, dtype=tf.int32), \n",
        "                                        range(len(products))), -1)"
      ]
    },
    {
      "cell_type": "code",
      "source": [
        "product_table.lookup(tf.constant([8650774]))"
      ],
      "metadata": {
        "colab": {
          "base_uri": "https://localhost:8080/"
        },
        "id": "3xhZ6Q2MdicW",
        "outputId": "9789737f-a42a-4e10-f9d2-fcc07e6218af"
      },
      "execution_count": 33,
      "outputs": [
        {
          "output_type": "execute_result",
          "data": {
            "text/plain": [
              "<tf.Tensor: shape=(1,), dtype=int32, numpy=array([0], dtype=int32)>"
            ]
          },
          "metadata": {},
          "execution_count": 33
        }
      ]
    },
    {
      "cell_type": "markdown",
      "metadata": {
        "id": "frocAfWzkhHh"
      },
      "source": [
        "Let's put those two things together"
      ]
    },
    {
      "cell_type": "code",
      "execution_count": 55,
      "metadata": {
        "id": "3jnpR6NHkhHh"
      },
      "outputs": [],
      "source": [
        "class RecommenderModel(tf.keras.Model):\n",
        "    def __init__(self, dummy_users, products, length_of_embedding):\n",
        "        super(RecommenderModel, self).__init__()\n",
        "        self.products = tf.constant(products, dtype=tf.int32)\n",
        "        self.dummy_users = tf.constant(dummy_users, dtype=tf.string)\n",
        "        self.dummy_user_table = tf.lookup.StaticHashTable(tf.lookup.KeyValueTensorInitializer(self.dummy_users, range(len(dummy_users))), -1)\n",
        "        self.product_table = tf.lookup.StaticHashTable(tf.lookup.KeyValueTensorInitializer(self.products, range(len(products))), -1)\n",
        "        \n",
        "        self.user_embedding = tf.keras.layers.Embedding(len(dummy_users), length_of_embedding)\n",
        "        self.product_embedding = tf.keras.layers.Embedding(len(products), length_of_embedding)\n",
        "        \n",
        "        # used to calculat dot product\n",
        "        self.dot = tf.keras.layers.Dot(axes=-1)\n",
        "\n",
        "\n",
        "    def call(self, inputs):\n",
        "        user = inputs[0]\n",
        "        products = inputs[1]\n",
        "        \n",
        "        # lookup in the table \n",
        "        user_embedding_index = self.dummy_user_table.lookup(user)\n",
        "        product_embedding_index = self.product_table.lookup(products)\n",
        "\n",
        "        user_embedding_values = self.user_embedding(user_embedding_index)\n",
        "        product_embedding_values = self.product_embedding(product_embedding_index)\n",
        "\n",
        "        return tf.squeeze(self.dot([user_embedding_values, product_embedding_values]))\n",
        "\n",
        "    \n",
        "    @tf.function\n",
        "    def call_item_item(self, product):\n",
        "      '''Find products that are similar by applying item-item similarity '''\n",
        "      # grab the product\n",
        "      product_x = self.product_table.lookup(product)\n",
        "      # lookup embedding\n",
        "      pe = tf.expand_dims(self.product_embedding(product_x), 0)\n",
        "      \n",
        "      all_pe = tf.expand_dims(self.product_embedding.embeddings, 0)#note this only works if the layer has been built!\n",
        "      # take dot product of product embedding for item we want recs for and then all other products \n",
        "      scores = tf.reshape(self.dot([pe, all_pe]), [-1])\n",
        "      # return scores of top items \n",
        "      top_scores, top_indices = tf.math.top_k(scores, k=100)\n",
        "      top_ids = tf.gather(self.products, top_indices)\n",
        "      return top_ids, top_scores"
      ]
    },
    {
      "cell_type": "code",
      "source": [
        "dummy_users"
      ],
      "metadata": {
        "colab": {
          "base_uri": "https://localhost:8080/"
        },
        "id": "dzKDys4wfxmc",
        "outputId": "beeab741-9987-471a-bf38-e120d51657c2"
      },
      "execution_count": 56,
      "outputs": [
        {
          "output_type": "execute_result",
          "data": {
            "text/plain": [
              "array(['pmfkU4BNZhmtLgJQwJ7x', 'UDRRwOlzlWVbu7H8YCCi',\n",
              "       'QHGAef0TI6dhn0wTogvW', ..., 'lcORJ5hemOZc1iGo9z7k',\n",
              "       '5CqDquDAszqJp27P7AL8', 'SSPNYxJMfuKhoe1dg24m'], dtype='<U20')"
            ]
          },
          "metadata": {},
          "execution_count": 56
        }
      ]
    },
    {
      "cell_type": "code",
      "source": [
        "products"
      ],
      "metadata": {
        "colab": {
          "base_uri": "https://localhost:8080/"
        },
        "id": "YR6c0uiPgdi1",
        "outputId": "d88128de-488f-4110-9355-4a6b4a46a087"
      },
      "execution_count": 57,
      "outputs": [
        {
          "output_type": "execute_result",
          "data": {
            "text/plain": [
              "array([ 8650774,  9306139,  9961521, ..., 12058614, 12058615, 11927550])"
            ]
          },
          "metadata": {},
          "execution_count": 57
        }
      ]
    },
    {
      "cell_type": "code",
      "source": [
        "rec1 = RecommenderModel(dummy_users, products, length_of_embedding=15)\n",
        "\n",
        "# create recommendation scores for two different users starting with largest value to the first values\n",
        "rec1([tf.constant([['pmfkU4BNZhmtLgJQwJ7x'], ['UDRRwOlzlWVbu7H8YCCi']]), \n",
        "      tf.constant([[8650774, 9306139,9961521],[12058614, 12058615, 11927550] ])])"
      ],
      "metadata": {
        "colab": {
          "base_uri": "https://localhost:8080/"
        },
        "id": "-P61qMHdfknx",
        "outputId": "6e8bddae-d803-4c45-8fa0-2789fb681206"
      },
      "execution_count": 58,
      "outputs": [
        {
          "output_type": "execute_result",
          "data": {
            "text/plain": [
              "<tf.Tensor: shape=(2, 3), dtype=float32, numpy=\n",
              "array([[ 0.0051709 , -0.0010311 ,  0.0079342 ],\n",
              "       [-0.00168053,  0.00144482,  0.00316149]], dtype=float32)>"
            ]
          },
          "metadata": {},
          "execution_count": 58
        }
      ]
    },
    {
      "cell_type": "markdown",
      "metadata": {
        "id": "E2RTAuSBkhHi"
      },
      "source": [
        "# Creating a dataset"
      ]
    },
    {
      "cell_type": "markdown",
      "metadata": {
        "id": "bhlpTnthkhHi"
      },
      "source": [
        "First create a tf.data.Dataset from the user purchase pairs."
      ]
    },
    {
      "cell_type": "code",
      "execution_count": 59,
      "metadata": {
        "id": "JudUlztUkhHi",
        "colab": {
          "base_uri": "https://localhost:8080/"
        },
        "outputId": "1356a0c5-5216-4862-8eba-16647e3dec27"
      },
      "outputs": [
        {
          "output_type": "stream",
          "name": "stdout",
          "text": [
            "tf.Tensor([b'PIXcm7Ru5KmntCy0yA1K'], shape=(1,), dtype=string)\n",
            "tf.Tensor([10524048], shape=(1,), dtype=int32)\n"
          ]
        }
      ],
      "source": [
        "dummy_user_tensor = tf.constant(train[[\"dummyUserId\"]].values, dtype=tf.string)\n",
        "product_tensor = tf.constant(train[[\"productId\"]].values, dtype=tf.int32)\n",
        "\n",
        "dataset = tf.data.Dataset.from_tensor_slices((dummy_user_tensor, product_tensor))\n",
        "for x, y in dataset:\n",
        "    print(x)\n",
        "    print(y)\n",
        "    break"
      ]
    },
    {
      "cell_type": "code",
      "source": [
        "products"
      ],
      "metadata": {
        "colab": {
          "base_uri": "https://localhost:8080/"
        },
        "id": "TrE7wecRixwc",
        "outputId": "f9c8af64-429b-43da-a3c5-40f6ed886907"
      },
      "execution_count": 60,
      "outputs": [
        {
          "output_type": "execute_result",
          "data": {
            "text/plain": [
              "array([ 8650774,  9306139,  9961521, ..., 12058614, 12058615, 11927550])"
            ]
          },
          "metadata": {},
          "execution_count": 60
        }
      ]
    },
    {
      "cell_type": "code",
      "source": [
        "random_negative_indexs = tf.random.uniform((7, ), minval=0, maxval=len(products), dtype=tf.int32) \n",
        "\n",
        "random_negative_indexs"
      ],
      "metadata": {
        "colab": {
          "base_uri": "https://localhost:8080/"
        },
        "id": "DFO1HIxpiz82",
        "outputId": "ce4577e6-db3c-459c-9397-642e542ce496"
      },
      "execution_count": 61,
      "outputs": [
        {
          "output_type": "execute_result",
          "data": {
            "text/plain": [
              "<tf.Tensor: shape=(7,), dtype=int32, numpy=array([13331, 21150,  9752, 16416, 24937,  8214, 18054], dtype=int32)>"
            ]
          },
          "metadata": {},
          "execution_count": 61
        }
      ]
    },
    {
      "cell_type": "code",
      "source": [
        "tf.gather(products, random_negative_indexs)"
      ],
      "metadata": {
        "colab": {
          "base_uri": "https://localhost:8080/"
        },
        "id": "_76n5j8fjHy-",
        "outputId": "036e4c19-38b8-4275-a380-36e773501aae"
      },
      "execution_count": 62,
      "outputs": [
        {
          "output_type": "execute_result",
          "data": {
            "text/plain": [
              "<tf.Tensor: shape=(7,), dtype=int64, numpy=\n",
              "array([ 8579194,  9531312,  8169846,  8723890,  9155417,  5279307,\n",
              "       10697667])>"
            ]
          },
          "metadata": {},
          "execution_count": 62
        }
      ]
    },
    {
      "cell_type": "code",
      "source": [
        "products[18218]"
      ],
      "metadata": {
        "colab": {
          "base_uri": "https://localhost:8080/"
        },
        "id": "aBKfA7yXjRKa",
        "outputId": "f6e485b1-223e-4229-914f-e3ae1d218fef"
      },
      "execution_count": 63,
      "outputs": [
        {
          "output_type": "execute_result",
          "data": {
            "text/plain": [
              "10698347"
            ]
          },
          "metadata": {},
          "execution_count": 63
        }
      ]
    },
    {
      "cell_type": "markdown",
      "metadata": {
        "id": "jRqDdLaNkhHj"
      },
      "source": [
        "For each purchase let's sample a number of products that the user did not purchase. Then the model can score each of the products and we will know we are doing a good job if the product with the highest score is the product that the user actually purchased.\n",
        "\n",
        "We can do this using dataset.map"
      ]
    },
    {
      "cell_type": "code",
      "source": [
        "tf.one_hot(0, depth=11)"
      ],
      "metadata": {
        "colab": {
          "base_uri": "https://localhost:8080/"
        },
        "id": "dRHqj8iYkxsF",
        "outputId": "af7ff1c8-d2c2-4eb2-ba72-0e5805ceb567"
      },
      "execution_count": 64,
      "outputs": [
        {
          "output_type": "execute_result",
          "data": {
            "text/plain": [
              "<tf.Tensor: shape=(11,), dtype=float32, numpy=array([1., 0., 0., 0., 0., 0., 0., 0., 0., 0., 0.], dtype=float32)>"
            ]
          },
          "metadata": {},
          "execution_count": 64
        }
      ]
    },
    {
      "cell_type": "code",
      "execution_count": 65,
      "metadata": {
        "id": "jrszOlLKkhHj"
      },
      "outputs": [],
      "source": [
        "class Mapper():\n",
        "    \n",
        "    def __init__(self, possible_products, num_negative_products):\n",
        "        self.num_possible_products = len(possible_products)\n",
        "        self.possible_products_tensor = tf.constant(possible_products, dtype=tf.int32)\n",
        "        \n",
        "        self.num_negative_products = num_negative_products\n",
        "        self.y = tf.one_hot(0, num_negative_products+1)\n",
        "    \n",
        "    def __call__(self, user, product):\n",
        "      # gives us a list of indexes of products the user didn't buy \n",
        "      random_negative_indexs = tf.random.uniform((self.num_negative_products, ), minval=0, maxval=self.num_possible_products, dtype=tf.int32) \n",
        "\n",
        "      negatives = tf.gather(self.possible_products_tensor, random_negative_indexs)\n",
        "\n",
        "      candidates = tf.concat([product, negatives], axis=0)\n",
        "      \n",
        "      return (user, candidates), self.y\n"
      ]
    },
    {
      "cell_type": "code",
      "source": [
        "# get a new dataset with all the products the user did and didn't purchase \n",
        "dataset = tf.data.Dataset.from_tensor_slices((dummy_user_tensor, product_tensor)).map(Mapper(products, 10))\n",
        "\n",
        "dataset"
      ],
      "metadata": {
        "colab": {
          "base_uri": "https://localhost:8080/"
        },
        "id": "-kSUhv_6kNgA",
        "outputId": "be3ea19f-2ae7-46ac-9fb2-be3e0b68b0a1"
      },
      "execution_count": 66,
      "outputs": [
        {
          "output_type": "execute_result",
          "data": {
            "text/plain": [
              "<MapDataset shapes: (((1,), (11,)), (11,)), types: ((tf.string, tf.int32), tf.float32)>"
            ]
          },
          "metadata": {},
          "execution_count": 66
        }
      ]
    },
    {
      "cell_type": "code",
      "source": [
        "for (u, c), y in dataset:\n",
        "  print(u)\n",
        "  print(\"1 product they bought and 10 they didn't buy\",c)\n",
        "  print(\"one hot encoded values for what they bought\",y)\n",
        "  break"
      ],
      "metadata": {
        "colab": {
          "base_uri": "https://localhost:8080/"
        },
        "id": "n0UcQWznkmYO",
        "outputId": "aefb870b-e019-4239-8f9a-610448216de9"
      },
      "execution_count": 67,
      "outputs": [
        {
          "output_type": "stream",
          "name": "stdout",
          "text": [
            "tf.Tensor([b'PIXcm7Ru5KmntCy0yA1K'], shape=(1,), dtype=string)\n",
            "1 product they bought and 10 they didn't buy tf.Tensor(\n",
            "[10524048 10277069 10559376  9637845 12361270 10529177 11266426 11574727\n",
            " 10929466 11419079 12386555], shape=(11,), dtype=int32)\n",
            "one hot encoded values for what they bought tf.Tensor([1. 0. 0. 0. 0. 0. 0. 0. 0. 0. 0.], shape=(11,), dtype=float32)\n"
          ]
        }
      ]
    },
    {
      "cell_type": "code",
      "execution_count": 68,
      "metadata": {
        "id": "84W3K0e8khHj"
      },
      "outputs": [],
      "source": [
        "def get_dataset(df, products, num_negative_products):\n",
        "    dummy_user_tensor = tf.constant(df[[\"dummyUserId\"]].values, dtype=tf.string)\n",
        "    product_tensor = tf.constant(df[[\"productId\"]].values, dtype=tf.int32)\n",
        "\n",
        "    dataset = tf.data.Dataset.from_tensor_slices((dummy_user_tensor, product_tensor))\n",
        "\n",
        "    dataset = dataset.map(Mapper(products, num_negative_products))\n",
        "\n",
        "    # learn from multiple users at a time instead of one\n",
        "    dataset = dataset.batch(1024)\n",
        "\n",
        "    return dataset\n",
        "\n"
      ]
    },
    {
      "cell_type": "code",
      "source": [
        "for (u, c), y in get_dataset(train, products, 4):\n",
        "  print(u)\n",
        "  print(c)\n",
        "  print(y)\n",
        "  break"
      ],
      "metadata": {
        "colab": {
          "base_uri": "https://localhost:8080/"
        },
        "id": "geRN04Udlv8y",
        "outputId": "f25f63bf-9cbe-46ec-fd8c-28ce26549de1"
      },
      "execution_count": 69,
      "outputs": [
        {
          "output_type": "stream",
          "name": "stdout",
          "text": [
            "tf.Tensor(\n",
            "[[b'PIXcm7Ru5KmntCy0yA1K']\n",
            " [b'd0RILFB1hUzNSINMY4Ow']\n",
            " [b'Ebax7lyhnKRm4xeRlWW2']\n",
            " ...\n",
            " [b'xuX9n8PHfSR0AP3UZ8ar']\n",
            " [b'iNnxsPFfOa9884fMjVPJ']\n",
            " [b'aD8Mn12im8lFPzXAY41P']], shape=(1024, 1), dtype=string)\n",
            "tf.Tensor(\n",
            "[[10524048  9920895 10002601 11518783 11934272]\n",
            " [ 9137713 10331694 12712816 11973717 10374110]\n",
            " [ 5808602 12787213 11404589 10811863 10105094]\n",
            " ...\n",
            " [11541336 11907906 10062628 11266690  9103553]\n",
            " [ 7779232  9099410 12973786 11794140 10742469]\n",
            " [ 4941259 12812240 11923383 12568105 12284417]], shape=(1024, 5), dtype=int32)\n",
            "tf.Tensor(\n",
            "[[1. 0. 0. 0. 0.]\n",
            " [1. 0. 0. 0. 0.]\n",
            " [1. 0. 0. 0. 0.]\n",
            " ...\n",
            " [1. 0. 0. 0. 0.]\n",
            " [1. 0. 0. 0. 0.]\n",
            " [1. 0. 0. 0. 0.]], shape=(1024, 5), dtype=float32)\n"
          ]
        }
      ]
    },
    {
      "cell_type": "markdown",
      "metadata": {
        "id": "esrSTL8kkhHj"
      },
      "source": [
        "# Train a model"
      ]
    },
    {
      "cell_type": "markdown",
      "metadata": {
        "id": "GjqMoK7UkhHj"
      },
      "source": [
        "We need to compile a model, set the loss and create an evaluation metric. Then we need to train the model."
      ]
    },
    {
      "cell_type": "code",
      "execution_count": 70,
      "metadata": {
        "id": "zWQNEO9AkhHk",
        "colab": {
          "base_uri": "https://localhost:8080/"
        },
        "outputId": "cbe54290-185c-4c5a-d6de-297e234a2af1"
      },
      "outputs": [
        {
          "output_type": "stream",
          "name": "stdout",
          "text": [
            "162/162 [==============================] - 12s 65ms/step - loss: 4.6151 - categorical_accuracy: 0.0123 - val_loss: 4.6151 - val_categorical_accuracy: 0.0174\n"
          ]
        },
        {
          "output_type": "execute_result",
          "data": {
            "text/plain": [
              "<keras.callbacks.History at 0x7f5b5c56fe10>"
            ]
          },
          "metadata": {},
          "execution_count": 70
        }
      ],
      "source": [
        "model = RecommenderModel(dummy_users, products, 15)\n",
        "# pass in loss func for what we're trying to optimize: turning problem into classification problem to predict purchased product\n",
        "# vs not purchased \n",
        "model.compile(loss=tf.keras.losses.CategoricalCrossentropy(from_logits=True), # want actual scores \n",
        "              optimizer=tf.keras.optimizers.SGD(learning_rate=100), # look for direction on things that change the most\n",
        "              metrics = [tf.keras.metrics.CategoricalAccuracy()])\n",
        "\n",
        "model.fit(get_dataset(train, products, 100), validation_data = get_dataset(valid, products, 100), epochs=1)"
      ]
    },
    {
      "cell_type": "markdown",
      "metadata": {
        "id": "fPmS3DZbkhHk"
      },
      "source": [
        "Let's do a manual check on whether the model is any good."
      ]
    },
    {
      "cell_type": "code",
      "execution_count": 71,
      "metadata": {
        "id": "mv-0Cp0ukhHk"
      },
      "outputs": [],
      "source": [
        "test_product = 11698965"
      ]
    },
    {
      "cell_type": "code",
      "execution_count": 72,
      "metadata": {
        "id": "oTZZK5D3khHk",
        "colab": {
          "base_uri": "https://localhost:8080/"
        },
        "outputId": "e673dba7-5ec6-47bd-869b-6203480ef7f8"
      },
      "outputs": [
        {
          "output_type": "stream",
          "name": "stdout",
          "text": [
            "Recs for item 11698965: (<tf.Tensor: shape=(100,), dtype=int32, numpy=\n",
            "array([11698965,  6538011, 12111280, 10350386, 11378722,  9518140,\n",
            "       11599017, 10183377, 12271958, 10245790, 12761976,  5026837,\n",
            "       10614508,  9790722,  8320798, 11887832,  8615341, 12537101,\n",
            "       11712888, 11389407,  9918646, 12207186, 11292580,  8316444,\n",
            "       12689143, 12318972, 11723543, 12694212,  5120714,  9229560,\n",
            "       11497880, 11531679,  9639361,  8745089, 11663540, 12356083,\n",
            "       10377022,  8925167, 12125614, 11698846, 10624663, 10715863,\n",
            "       10309914, 10351396,  5377071,  9819136, 10360318,  9108375,\n",
            "       11210565, 10412439, 10943563,  7913858, 10686823, 10439335,\n",
            "       10623500, 10183845, 11960361, 12779924, 10111374, 10171589,\n",
            "       10239696,  8701479, 11368542, 12183213,  9143728, 11037862,\n",
            "        9681455, 10735532, 11542348, 10253015, 12896059, 10783801,\n",
            "       10100368,  7298323, 12032507, 10301200, 11395154, 10550480,\n",
            "       12276093, 10493218, 12125335, 12770781,  8725667, 10789484,\n",
            "        9525046,  9744379,  7199654,  8193321, 10402696,  9942299,\n",
            "       13104987, 11710918, 12214890, 11726035,  9794142, 11376266,\n",
            "       11888643, 13289913, 12544880, 10999427], dtype=int32)>, <tf.Tensor: shape=(100,), dtype=float32, numpy=\n",
            "array([0.01731153, 0.01372914, 0.01367369, 0.01355905, 0.01349731,\n",
            "       0.01340297, 0.01316666, 0.01296617, 0.01267745, 0.01263782,\n",
            "       0.01259508, 0.0125603 , 0.01237283, 0.012355  , 0.01231209,\n",
            "       0.01217959, 0.0121717 , 0.01215758, 0.01212401, 0.01211512,\n",
            "       0.01208478, 0.01207011, 0.01193679, 0.01186423, 0.01171532,\n",
            "       0.01168392, 0.01161939, 0.01159206, 0.01158509, 0.01156601,\n",
            "       0.01151906, 0.0114982 , 0.01142689, 0.01140662, 0.01139135,\n",
            "       0.01138281, 0.01136743, 0.01134968, 0.01134172, 0.01132884,\n",
            "       0.01132087, 0.0112606 , 0.01125551, 0.0112533 , 0.01123425,\n",
            "       0.01119731, 0.01115758, 0.01111559, 0.01108978, 0.01107826,\n",
            "       0.01105185, 0.01104091, 0.01103599, 0.01100191, 0.01099766,\n",
            "       0.01099688, 0.01093461, 0.01092859, 0.0109256 , 0.01091276,\n",
            "       0.01090229, 0.01089158, 0.010874  , 0.01081646, 0.01079714,\n",
            "       0.01078195, 0.0107654 , 0.01073371, 0.01072843, 0.01072347,\n",
            "       0.01070223, 0.01069601, 0.01063227, 0.01058272, 0.01058085,\n",
            "       0.01057802, 0.01056027, 0.01055731, 0.01055153, 0.01054456,\n",
            "       0.01053829, 0.01052536, 0.01052225, 0.01046633, 0.01045763,\n",
            "       0.01044229, 0.01041659, 0.01040962, 0.01039117, 0.01038948,\n",
            "       0.01038907, 0.01037222, 0.0103576 , 0.01030986, 0.01029677,\n",
            "       0.0102874 , 0.01027504, 0.01027034, 0.01026879, 0.01024902],\n",
            "      dtype=float32)>)\n"
          ]
        }
      ],
      "source": [
        "print(\"Recs for item {}: {}\".format(test_product, model.call_item_item(tf.constant(test_product, dtype=tf.int32))))"
      ]
    },
    {
      "cell_type": "code",
      "source": [
        ""
      ],
      "metadata": {
        "id": "Xc_KChulodUE"
      },
      "execution_count": 51,
      "outputs": []
    }
  ],
  "metadata": {
    "kernelspec": {
      "display_name": "Python 3",
      "language": "python",
      "name": "python3"
    },
    "language_info": {
      "codemirror_mode": {
        "name": "ipython",
        "version": 3
      },
      "file_extension": ".py",
      "mimetype": "text/x-python",
      "name": "python",
      "nbconvert_exporter": "python",
      "pygments_lexer": "ipython3",
      "version": "3.7.1"
    },
    "colab": {
      "name": "Recommender From Scratch Tensorflow.ipynb",
      "provenance": [],
      "include_colab_link": true
    }
  },
  "nbformat": 4,
  "nbformat_minor": 0
}