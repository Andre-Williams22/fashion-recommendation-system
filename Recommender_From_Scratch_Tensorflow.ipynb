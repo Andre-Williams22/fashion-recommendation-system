{
  "cells": [
    {
      "cell_type": "markdown",
      "metadata": {
        "id": "view-in-github",
        "colab_type": "text"
      },
      "source": [
        "<a href=\"https://colab.research.google.com/github/Andre-Williams22/fashion-recommendation-system/blob/master/Recommender_From_Scratch_Tensorflow.ipynb\" target=\"_parent\"><img src=\"https://colab.research.google.com/assets/colab-badge.svg\" alt=\"Open In Colab\"/></a>"
      ]
    },
    {
      "cell_type": "markdown",
      "metadata": {
        "id": "AIDkLnEMkhHR"
      },
      "source": [
        "\n",
        "## User and Product Vector Recommendation Model"
      ]
    },
    {
      "cell_type": "code",
      "source": [
        "!pip install keras_resnet"
      ],
      "metadata": {
        "colab": {
          "base_uri": "https://localhost:8080/"
        },
        "id": "mCFavZC51htL",
        "outputId": "1b64cb55-74d5-4cd5-f82c-f57ac3eaa5cb"
      },
      "execution_count": 1,
      "outputs": [
        {
          "output_type": "stream",
          "name": "stdout",
          "text": [
            "Collecting keras_resnet\n",
            "  Downloading keras-resnet-0.2.0.tar.gz (9.3 kB)\n",
            "Requirement already satisfied: keras>=2.2.4 in /usr/local/lib/python3.7/dist-packages (from keras_resnet) (2.7.0)\n",
            "Building wheels for collected packages: keras-resnet\n",
            "  Building wheel for keras-resnet (setup.py) ... \u001b[?25l\u001b[?25hdone\n",
            "  Created wheel for keras-resnet: filename=keras_resnet-0.2.0-py2.py3-none-any.whl size=20486 sha256=4588118a794a34543786eafbb53b59ce468b171478e74a312dff806b19d54c03\n",
            "  Stored in directory: /root/.cache/pip/wheels/bd/ef/06/5d65f696360436c3a423020c4b7fd8c558c09ef264a0e6c575\n",
            "Successfully built keras-resnet\n",
            "Installing collected packages: keras-resnet\n",
            "Successfully installed keras-resnet-0.2.0\n"
          ]
        }
      ]
    },
    {
      "cell_type": "markdown",
      "source": [
        "## Steps for building our Model "
      ],
      "metadata": {
        "id": "4VBZQ7InT7nu"
      }
    },
    {
      "cell_type": "markdown",
      "source": [
        "1. Pick random numbers for each customer and each product \n",
        "2. Find a score for each customer and product \n",
        "3. Rank according to these scores \n",
        "4. Tweak the customer and user vectors to get better rankings "
      ],
      "metadata": {
        "id": "XxtnRuZJT7kZ"
      }
    },
    {
      "cell_type": "markdown",
      "source": [
        "## Goals \n",
        "We started off with random numbers but over time two things happen:\n",
        "1. Overtime our user vector captures the taste and preferences of the user. \n",
        "2. The product vector captures the product style and features.\n",
        "\n",
        "\n",
        "Because if I purchase three items and you purchase 2 of those 3 items then my user vector is probably similar in that these items both have high scores for the two products we have in common. And naturally you would get a high score for the 3rd product I bought that you didn't; hence, the 3rd product I bought would be recommended to the user. \n"
      ],
      "metadata": {
        "id": "lBCe5XjFT7hv"
      }
    },
    {
      "cell_type": "markdown",
      "source": [
        ""
      ],
      "metadata": {
        "id": "GVW2GqaAT7e7"
      }
    },
    {
      "cell_type": "markdown",
      "source": [
        ""
      ],
      "metadata": {
        "id": "QDFEfg3GT7bL"
      }
    },
    {
      "cell_type": "markdown",
      "source": [
        "## Potential Success Metrics "
      ],
      "metadata": {
        "id": "BHkN3u-XTaU1"
      }
    },
    {
      "cell_type": "markdown",
      "source": [
        "We know our model is good if the items the user buys is ranked at the top of our list for ranks for the user."
      ],
      "metadata": {
        "id": "NXwA3CSETdg1"
      }
    },
    {
      "cell_type": "code",
      "source": [
        ""
      ],
      "metadata": {
        "id": "r1liV7tnTcxy"
      },
      "execution_count": null,
      "outputs": []
    },
    {
      "cell_type": "code",
      "source": [
        ""
      ],
      "metadata": {
        "id": "BSSMjFBMTcvD"
      },
      "execution_count": null,
      "outputs": []
    },
    {
      "cell_type": "code",
      "source": [
        ""
      ],
      "metadata": {
        "id": "mwIR46lvTcsP"
      },
      "execution_count": null,
      "outputs": []
    },
    {
      "cell_type": "markdown",
      "metadata": {
        "id": "_YqsWCGfkhHV"
      },
      "source": [
        "# Imports"
      ]
    },
    {
      "cell_type": "code",
      "execution_count": 2,
      "metadata": {
        "id": "Ud0z0L2wkhHW"
      },
      "outputs": [],
      "source": [
        "import numpy as np\n",
        "import pandas as pd\n",
        "import tensorflow as tf\n",
        "import os"
      ]
    },
    {
      "cell_type": "code",
      "source": [
        "import tensorflow as tf\n",
        "import keras\n",
        "from keras import Model\n",
        "MaxPooling2D\n",
        "tf.__version__"
      ],
      "metadata": {
        "colab": {
          "base_uri": "https://localhost:8080/",
          "height": 219
        },
        "id": "MepBcSL91eZ_",
        "outputId": "74cd96a8-79f2-428f-ddce-35fb28f6e7fb"
      },
      "execution_count": 37,
      "outputs": [
        {
          "output_type": "error",
          "ename": "NameError",
          "evalue": "ignored",
          "traceback": [
            "\u001b[0;31m---------------------------------------------------------------------------\u001b[0m",
            "\u001b[0;31mNameError\u001b[0m                                 Traceback (most recent call last)",
            "\u001b[0;32m<ipython-input-37-95585253c3aa>\u001b[0m in \u001b[0;36m<module>\u001b[0;34m()\u001b[0m\n\u001b[1;32m      2\u001b[0m \u001b[0;32mimport\u001b[0m \u001b[0mkeras\u001b[0m\u001b[0;34m\u001b[0m\u001b[0;34m\u001b[0m\u001b[0m\n\u001b[1;32m      3\u001b[0m \u001b[0;32mfrom\u001b[0m \u001b[0mkeras\u001b[0m \u001b[0;32mimport\u001b[0m \u001b[0mModel\u001b[0m\u001b[0;34m\u001b[0m\u001b[0;34m\u001b[0m\u001b[0m\n\u001b[0;32m----> 4\u001b[0;31m \u001b[0mMaxPooling2D\u001b[0m\u001b[0;34m\u001b[0m\u001b[0;34m\u001b[0m\u001b[0m\n\u001b[0m\u001b[1;32m      5\u001b[0m \u001b[0mtf\u001b[0m\u001b[0;34m.\u001b[0m\u001b[0m__version__\u001b[0m\u001b[0;34m\u001b[0m\u001b[0;34m\u001b[0m\u001b[0m\n",
            "\u001b[0;31mNameError\u001b[0m: name 'MaxPooling2D' is not defined"
          ]
        }
      ]
    },
    {
      "cell_type": "markdown",
      "metadata": {
        "id": "5f98CQuQkhHX"
      },
      "source": [
        "# Import training data"
      ]
    },
    {
      "cell_type": "code",
      "execution_count": 50,
      "metadata": {
        "id": "N9gk2pJEkhHX"
      },
      "outputs": [],
      "source": [
        "train = pd.read_parquet(\"https://raw.githubusercontent.com/ASOS/dsf2020/main/dsf_asos_train_with_alphanumeric_dummy_ids.parquet\")\n",
        "valid = pd.read_parquet(\"https://raw.githubusercontent.com/ASOS/dsf2020/main/dsf_asos_valid_with_alphanumeric_dummy_ids.parquet\")\n",
        "dummy_users = pd.read_csv(\"https://raw.githubusercontent.com/ASOS/dsf2020/main/dsf_asos_dummy_users_with_alphanumeric_dummy_ids.csv\", header=None).values.flatten().astype(str)\n",
        "products = pd.read_csv(\"https://raw.githubusercontent.com/ASOS/dsf2020/main/dsf_asos_productIds.csv\", header=None).values.flatten().astype(int)"
      ]
    },
    {
      "cell_type": "code",
      "source": [
        "from google.colab import drive\n",
        "drive.mount('/content/drive')"
      ],
      "metadata": {
        "id": "pAx4jKTwknCr",
        "colab": {
          "base_uri": "https://localhost:8080/"
        },
        "outputId": "8912b8c0-d91c-4d19-8251-54782593fcef"
      },
      "execution_count": 5,
      "outputs": [
        {
          "output_type": "stream",
          "name": "stdout",
          "text": [
            "Mounted at /content/drive\n"
          ]
        }
      ]
    },
    {
      "cell_type": "code",
      "source": [
        "# train.to_csv('train_with_alphanumeric_dummy_and_product_ids.csv')\n",
        "# valid.to_csv('valid_with_alphanumeric_dummy_and_product_ids.csv')"
      ],
      "metadata": {
        "id": "P3TyrMDPnz7T"
      },
      "execution_count": 6,
      "outputs": []
    },
    {
      "cell_type": "code",
      "source": [
        ""
      ],
      "metadata": {
        "id": "Z0Am_LlTnz-0"
      },
      "execution_count": 6,
      "outputs": []
    },
    {
      "cell_type": "code",
      "source": [
        "train.shape, valid.shape, dummy_users.shape, products.shape"
      ],
      "metadata": {
        "colab": {
          "base_uri": "https://localhost:8080/"
        },
        "id": "_vMKj_oAn0Bo",
        "outputId": "d9478433-de2c-4544-fef1-5993942ee2ec"
      },
      "execution_count": 7,
      "outputs": [
        {
          "output_type": "execute_result",
          "data": {
            "text/plain": [
              "((165042, 2), (35567, 2), (43607, 1), (29696, 1))"
            ]
          },
          "metadata": {},
          "execution_count": 7
        }
      ]
    },
    {
      "cell_type": "code",
      "source": [
        "train.shape"
      ],
      "metadata": {
        "colab": {
          "base_uri": "https://localhost:8080/"
        },
        "id": "JBtFZ8kUlBeP",
        "outputId": "2cd92fd7-d7f1-4910-d319-4315a68f97bc"
      },
      "execution_count": 8,
      "outputs": [
        {
          "output_type": "execute_result",
          "data": {
            "text/plain": [
              "(165042, 2)"
            ]
          },
          "metadata": {},
          "execution_count": 8
        }
      ]
    },
    {
      "cell_type": "code",
      "source": [
        "valid.shape"
      ],
      "metadata": {
        "colab": {
          "base_uri": "https://localhost:8080/"
        },
        "id": "RqORHtVulMu2",
        "outputId": "ce5c953b-e6f7-4e38-b0b5-a3911753d69c"
      },
      "execution_count": 9,
      "outputs": [
        {
          "output_type": "execute_result",
          "data": {
            "text/plain": [
              "(35567, 2)"
            ]
          },
          "metadata": {},
          "execution_count": 9
        }
      ]
    },
    {
      "cell_type": "code",
      "source": [
        "train"
      ],
      "metadata": {
        "colab": {
          "base_uri": "https://localhost:8080/",
          "height": 419
        },
        "id": "Uk4rXCAv9bVZ",
        "outputId": "2e6daba9-c1de-4651-b74e-b9daf54ccfae"
      },
      "execution_count": 10,
      "outputs": [
        {
          "output_type": "execute_result",
          "data": {
            "text/html": [
              "<div>\n",
              "<style scoped>\n",
              "    .dataframe tbody tr th:only-of-type {\n",
              "        vertical-align: middle;\n",
              "    }\n",
              "\n",
              "    .dataframe tbody tr th {\n",
              "        vertical-align: top;\n",
              "    }\n",
              "\n",
              "    .dataframe thead th {\n",
              "        text-align: right;\n",
              "    }\n",
              "</style>\n",
              "<table border=\"1\" class=\"dataframe\">\n",
              "  <thead>\n",
              "    <tr style=\"text-align: right;\">\n",
              "      <th></th>\n",
              "      <th>dummyUserId</th>\n",
              "      <th>productId</th>\n",
              "    </tr>\n",
              "  </thead>\n",
              "  <tbody>\n",
              "    <tr>\n",
              "      <th>0</th>\n",
              "      <td>b'PIXcm7Ru5KmntCy0yA1K'</td>\n",
              "      <td>10524048</td>\n",
              "    </tr>\n",
              "    <tr>\n",
              "      <th>1</th>\n",
              "      <td>b'd0RILFB1hUzNSINMY4Ow'</td>\n",
              "      <td>9137713</td>\n",
              "    </tr>\n",
              "    <tr>\n",
              "      <th>2</th>\n",
              "      <td>b'Ebax7lyhnKRm4xeRlWW2'</td>\n",
              "      <td>5808602</td>\n",
              "    </tr>\n",
              "    <tr>\n",
              "      <th>3</th>\n",
              "      <td>b'vtigDw2h2vxKt0sJpEeU'</td>\n",
              "      <td>10548272</td>\n",
              "    </tr>\n",
              "    <tr>\n",
              "      <th>4</th>\n",
              "      <td>b'r4GfiEaUGxziyjX0PyU6'</td>\n",
              "      <td>10988173</td>\n",
              "    </tr>\n",
              "    <tr>\n",
              "      <th>...</th>\n",
              "      <td>...</td>\n",
              "      <td>...</td>\n",
              "    </tr>\n",
              "    <tr>\n",
              "      <th>165037</th>\n",
              "      <td>b'7Eom5Ancozj01ozGxAMK'</td>\n",
              "      <td>9071435</td>\n",
              "    </tr>\n",
              "    <tr>\n",
              "      <th>165038</th>\n",
              "      <td>b'zi9vZETHqSIZK0TM2nZc'</td>\n",
              "      <td>10413104</td>\n",
              "    </tr>\n",
              "    <tr>\n",
              "      <th>165039</th>\n",
              "      <td>b'fVCveec9P946asY5wqGm'</td>\n",
              "      <td>9859881</td>\n",
              "    </tr>\n",
              "    <tr>\n",
              "      <th>165040</th>\n",
              "      <td>b'VJtfpw602SZHh2qwarK4'</td>\n",
              "      <td>10809487</td>\n",
              "    </tr>\n",
              "    <tr>\n",
              "      <th>165041</th>\n",
              "      <td>b'D8BlXaKnJHXmxgwfSZzE'</td>\n",
              "      <td>8752491</td>\n",
              "    </tr>\n",
              "  </tbody>\n",
              "</table>\n",
              "<p>165042 rows × 2 columns</p>\n",
              "</div>"
            ],
            "text/plain": [
              "                    dummyUserId  productId\n",
              "0       b'PIXcm7Ru5KmntCy0yA1K'   10524048\n",
              "1       b'd0RILFB1hUzNSINMY4Ow'    9137713\n",
              "2       b'Ebax7lyhnKRm4xeRlWW2'    5808602\n",
              "3       b'vtigDw2h2vxKt0sJpEeU'   10548272\n",
              "4       b'r4GfiEaUGxziyjX0PyU6'   10988173\n",
              "...                         ...        ...\n",
              "165037  b'7Eom5Ancozj01ozGxAMK'    9071435\n",
              "165038  b'zi9vZETHqSIZK0TM2nZc'   10413104\n",
              "165039  b'fVCveec9P946asY5wqGm'    9859881\n",
              "165040  b'VJtfpw602SZHh2qwarK4'   10809487\n",
              "165041  b'D8BlXaKnJHXmxgwfSZzE'    8752491\n",
              "\n",
              "[165042 rows x 2 columns]"
            ]
          },
          "metadata": {},
          "execution_count": 10
        }
      ]
    },
    {
      "cell_type": "code",
      "source": [
        "valid"
      ],
      "metadata": {
        "colab": {
          "base_uri": "https://localhost:8080/",
          "height": 419
        },
        "id": "DwBGEu9zlMxW",
        "outputId": "a102a9c6-d165-4935-e92c-497312331d62"
      },
      "execution_count": 11,
      "outputs": [
        {
          "output_type": "execute_result",
          "data": {
            "text/html": [
              "<div>\n",
              "<style scoped>\n",
              "    .dataframe tbody tr th:only-of-type {\n",
              "        vertical-align: middle;\n",
              "    }\n",
              "\n",
              "    .dataframe tbody tr th {\n",
              "        vertical-align: top;\n",
              "    }\n",
              "\n",
              "    .dataframe thead th {\n",
              "        text-align: right;\n",
              "    }\n",
              "</style>\n",
              "<table border=\"1\" class=\"dataframe\">\n",
              "  <thead>\n",
              "    <tr style=\"text-align: right;\">\n",
              "      <th></th>\n",
              "      <th>dummyUserId</th>\n",
              "      <th>productId</th>\n",
              "    </tr>\n",
              "  </thead>\n",
              "  <tbody>\n",
              "    <tr>\n",
              "      <th>0</th>\n",
              "      <td>b'I4Yc5Ztur3UNwY5SdvDh'</td>\n",
              "      <td>10093853</td>\n",
              "    </tr>\n",
              "    <tr>\n",
              "      <th>1</th>\n",
              "      <td>b'nhWgcxEVY7jQ3MvvNxWL'</td>\n",
              "      <td>12306408</td>\n",
              "    </tr>\n",
              "    <tr>\n",
              "      <th>2</th>\n",
              "      <td>b'3vriQXKwG095rvR1MSrz'</td>\n",
              "      <td>11858310</td>\n",
              "    </tr>\n",
              "    <tr>\n",
              "      <th>3</th>\n",
              "      <td>b'MA8KmOxkGd1JQ42GXDGO'</td>\n",
              "      <td>10072124</td>\n",
              "    </tr>\n",
              "    <tr>\n",
              "      <th>4</th>\n",
              "      <td>b'vax7VgJnswdiC8iHZSCi'</td>\n",
              "      <td>10596405</td>\n",
              "    </tr>\n",
              "    <tr>\n",
              "      <th>...</th>\n",
              "      <td>...</td>\n",
              "      <td>...</td>\n",
              "    </tr>\n",
              "    <tr>\n",
              "      <th>35562</th>\n",
              "      <td>b'A5uRhbiMu4vlKCB9A0rc'</td>\n",
              "      <td>8496251</td>\n",
              "    </tr>\n",
              "    <tr>\n",
              "      <th>35563</th>\n",
              "      <td>b'VVyZSPXhX62iE9AtPDen'</td>\n",
              "      <td>11935204</td>\n",
              "    </tr>\n",
              "    <tr>\n",
              "      <th>35564</th>\n",
              "      <td>b'8ACEWhSBG4eyhzHmwf4C'</td>\n",
              "      <td>10494419</td>\n",
              "    </tr>\n",
              "    <tr>\n",
              "      <th>35565</th>\n",
              "      <td>b'bSTkDJMjlco6hheq9lTQ'</td>\n",
              "      <td>11270014</td>\n",
              "    </tr>\n",
              "    <tr>\n",
              "      <th>35566</th>\n",
              "      <td>b'4Ls1jafYhagdbxxDS9ci'</td>\n",
              "      <td>10636194</td>\n",
              "    </tr>\n",
              "  </tbody>\n",
              "</table>\n",
              "<p>35567 rows × 2 columns</p>\n",
              "</div>"
            ],
            "text/plain": [
              "                   dummyUserId  productId\n",
              "0      b'I4Yc5Ztur3UNwY5SdvDh'   10093853\n",
              "1      b'nhWgcxEVY7jQ3MvvNxWL'   12306408\n",
              "2      b'3vriQXKwG095rvR1MSrz'   11858310\n",
              "3      b'MA8KmOxkGd1JQ42GXDGO'   10072124\n",
              "4      b'vax7VgJnswdiC8iHZSCi'   10596405\n",
              "...                        ...        ...\n",
              "35562  b'A5uRhbiMu4vlKCB9A0rc'    8496251\n",
              "35563  b'VVyZSPXhX62iE9AtPDen'   11935204\n",
              "35564  b'8ACEWhSBG4eyhzHmwf4C'   10494419\n",
              "35565  b'bSTkDJMjlco6hheq9lTQ'   11270014\n",
              "35566  b'4Ls1jafYhagdbxxDS9ci'   10636194\n",
              "\n",
              "[35567 rows x 2 columns]"
            ]
          },
          "metadata": {},
          "execution_count": 11
        }
      ]
    },
    {
      "cell_type": "code",
      "source": [
        "dummy_users"
      ],
      "metadata": {
        "colab": {
          "base_uri": "https://localhost:8080/",
          "height": 419
        },
        "id": "nHHVFtqllMzw",
        "outputId": "9a4a8e8a-7e03-4c70-db38-5e0a3bf3e652"
      },
      "execution_count": 12,
      "outputs": [
        {
          "output_type": "execute_result",
          "data": {
            "text/html": [
              "<div>\n",
              "<style scoped>\n",
              "    .dataframe tbody tr th:only-of-type {\n",
              "        vertical-align: middle;\n",
              "    }\n",
              "\n",
              "    .dataframe tbody tr th {\n",
              "        vertical-align: top;\n",
              "    }\n",
              "\n",
              "    .dataframe thead th {\n",
              "        text-align: right;\n",
              "    }\n",
              "</style>\n",
              "<table border=\"1\" class=\"dataframe\">\n",
              "  <thead>\n",
              "    <tr style=\"text-align: right;\">\n",
              "      <th></th>\n",
              "      <th>0</th>\n",
              "    </tr>\n",
              "  </thead>\n",
              "  <tbody>\n",
              "    <tr>\n",
              "      <th>0</th>\n",
              "      <td>pmfkU4BNZhmtLgJQwJ7x</td>\n",
              "    </tr>\n",
              "    <tr>\n",
              "      <th>1</th>\n",
              "      <td>UDRRwOlzlWVbu7H8YCCi</td>\n",
              "    </tr>\n",
              "    <tr>\n",
              "      <th>2</th>\n",
              "      <td>QHGAef0TI6dhn0wTogvW</td>\n",
              "    </tr>\n",
              "    <tr>\n",
              "      <th>3</th>\n",
              "      <td>xkDvstQDkA6uJlOfslX7</td>\n",
              "    </tr>\n",
              "    <tr>\n",
              "      <th>4</th>\n",
              "      <td>44dM2SXR9BWX5e0ozkF8</td>\n",
              "    </tr>\n",
              "    <tr>\n",
              "      <th>...</th>\n",
              "      <td>...</td>\n",
              "    </tr>\n",
              "    <tr>\n",
              "      <th>43602</th>\n",
              "      <td>1hsyohz0i37hinx6KX8x</td>\n",
              "    </tr>\n",
              "    <tr>\n",
              "      <th>43603</th>\n",
              "      <td>oGSJHmWWvRq8vSbMq2XA</td>\n",
              "    </tr>\n",
              "    <tr>\n",
              "      <th>43604</th>\n",
              "      <td>lcORJ5hemOZc1iGo9z7k</td>\n",
              "    </tr>\n",
              "    <tr>\n",
              "      <th>43605</th>\n",
              "      <td>5CqDquDAszqJp27P7AL8</td>\n",
              "    </tr>\n",
              "    <tr>\n",
              "      <th>43606</th>\n",
              "      <td>SSPNYxJMfuKhoe1dg24m</td>\n",
              "    </tr>\n",
              "  </tbody>\n",
              "</table>\n",
              "<p>43607 rows × 1 columns</p>\n",
              "</div>"
            ],
            "text/plain": [
              "                          0\n",
              "0      pmfkU4BNZhmtLgJQwJ7x\n",
              "1      UDRRwOlzlWVbu7H8YCCi\n",
              "2      QHGAef0TI6dhn0wTogvW\n",
              "3      xkDvstQDkA6uJlOfslX7\n",
              "4      44dM2SXR9BWX5e0ozkF8\n",
              "...                     ...\n",
              "43602  1hsyohz0i37hinx6KX8x\n",
              "43603  oGSJHmWWvRq8vSbMq2XA\n",
              "43604  lcORJ5hemOZc1iGo9z7k\n",
              "43605  5CqDquDAszqJp27P7AL8\n",
              "43606  SSPNYxJMfuKhoe1dg24m\n",
              "\n",
              "[43607 rows x 1 columns]"
            ]
          },
          "metadata": {},
          "execution_count": 12
        }
      ]
    },
    {
      "cell_type": "code",
      "source": [
        "products"
      ],
      "metadata": {
        "colab": {
          "base_uri": "https://localhost:8080/",
          "height": 419
        },
        "id": "-hDFdlatlSEn",
        "outputId": "ab78f7cc-914a-4745-b484-5c45e010eea3"
      },
      "execution_count": 13,
      "outputs": [
        {
          "output_type": "execute_result",
          "data": {
            "text/html": [
              "<div>\n",
              "<style scoped>\n",
              "    .dataframe tbody tr th:only-of-type {\n",
              "        vertical-align: middle;\n",
              "    }\n",
              "\n",
              "    .dataframe tbody tr th {\n",
              "        vertical-align: top;\n",
              "    }\n",
              "\n",
              "    .dataframe thead th {\n",
              "        text-align: right;\n",
              "    }\n",
              "</style>\n",
              "<table border=\"1\" class=\"dataframe\">\n",
              "  <thead>\n",
              "    <tr style=\"text-align: right;\">\n",
              "      <th></th>\n",
              "      <th>0</th>\n",
              "    </tr>\n",
              "  </thead>\n",
              "  <tbody>\n",
              "    <tr>\n",
              "      <th>0</th>\n",
              "      <td>8650774</td>\n",
              "    </tr>\n",
              "    <tr>\n",
              "      <th>1</th>\n",
              "      <td>9306139</td>\n",
              "    </tr>\n",
              "    <tr>\n",
              "      <th>2</th>\n",
              "      <td>9961521</td>\n",
              "    </tr>\n",
              "    <tr>\n",
              "      <th>3</th>\n",
              "      <td>13238328</td>\n",
              "    </tr>\n",
              "    <tr>\n",
              "      <th>4</th>\n",
              "      <td>10485819</td>\n",
              "    </tr>\n",
              "    <tr>\n",
              "      <th>...</th>\n",
              "      <td>...</td>\n",
              "    </tr>\n",
              "    <tr>\n",
              "      <th>29691</th>\n",
              "      <td>11927533</td>\n",
              "    </tr>\n",
              "    <tr>\n",
              "      <th>29692</th>\n",
              "      <td>11272181</td>\n",
              "    </tr>\n",
              "    <tr>\n",
              "      <th>29693</th>\n",
              "      <td>12058614</td>\n",
              "    </tr>\n",
              "    <tr>\n",
              "      <th>29694</th>\n",
              "      <td>12058615</td>\n",
              "    </tr>\n",
              "    <tr>\n",
              "      <th>29695</th>\n",
              "      <td>11927550</td>\n",
              "    </tr>\n",
              "  </tbody>\n",
              "</table>\n",
              "<p>29696 rows × 1 columns</p>\n",
              "</div>"
            ],
            "text/plain": [
              "              0\n",
              "0       8650774\n",
              "1       9306139\n",
              "2       9961521\n",
              "3      13238328\n",
              "4      10485819\n",
              "...         ...\n",
              "29691  11927533\n",
              "29692  11272181\n",
              "29693  12058614\n",
              "29694  12058615\n",
              "29695  11927550\n",
              "\n",
              "[29696 rows x 1 columns]"
            ]
          },
          "metadata": {},
          "execution_count": 13
        }
      ]
    },
    {
      "cell_type": "markdown",
      "metadata": {
        "id": "FZvRM42_khHf"
      },
      "source": [
        "# Define a Recommender Model"
      ]
    },
    {
      "cell_type": "markdown",
      "metadata": {
        "id": "7VTtDFyzkhHf"
      },
      "source": [
        "The embedding layer gives a list of random numbers for each user and each product."
      ]
    },
    {
      "cell_type": "code",
      "execution_count": 32,
      "metadata": {
        "id": "LbKXzKinkhHf"
      },
      "outputs": [],
      "source": [
        "embed1= tf.keras.layers.Embedding(5, 8)"
      ]
    },
    {
      "cell_type": "code",
      "source": [
        "embed1(2)"
      ],
      "metadata": {
        "colab": {
          "base_uri": "https://localhost:8080/"
        },
        "id": "RB7AC_0CaaZ5",
        "outputId": "c2da84d8-e58b-45d7-9f62-52ee30b67547"
      },
      "execution_count": 34,
      "outputs": [
        {
          "output_type": "execute_result",
          "data": {
            "text/plain": [
              "<tf.Tensor: shape=(8,), dtype=float32, numpy=\n",
              "array([-0.02866203,  0.01962494,  0.0169918 , -0.02567202,  0.00652628,\n",
              "       -0.02465883, -0.01568688, -0.02088585], dtype=float32)>"
            ]
          },
          "metadata": {},
          "execution_count": 34
        }
      ]
    },
    {
      "cell_type": "code",
      "source": [
        "embed1.get_weights()"
      ],
      "metadata": {
        "colab": {
          "base_uri": "https://localhost:8080/"
        },
        "id": "TPWbGICwaelA",
        "outputId": "0a325ed1-30f6-4505-c7ad-a3e77196b85d"
      },
      "execution_count": 36,
      "outputs": [
        {
          "output_type": "execute_result",
          "data": {
            "text/plain": [
              "[array([[-0.02958336, -0.03473998,  0.0145921 ,  0.03351617, -0.01130372,\n",
              "         -0.03837059, -0.03909403, -0.00592911],\n",
              "        [-0.04885773, -0.02455195, -0.04686287,  0.00506725, -0.03612177,\n",
              "         -0.00311587, -0.01773872, -0.0283118 ],\n",
              "        [-0.02866203,  0.01962494,  0.0169918 , -0.02567202,  0.00652628,\n",
              "         -0.02465883, -0.01568688, -0.02088585],\n",
              "        [-0.00779068, -0.04018898, -0.02437047, -0.01427352,  0.0081787 ,\n",
              "         -0.03662685,  0.01933464, -0.01496754],\n",
              "        [ 0.03784574,  0.0075291 ,  0.00362164, -0.0294101 ,  0.01330021,\n",
              "         -0.02153105,  0.00383062, -0.00942637]], dtype=float32)]"
            ]
          },
          "metadata": {},
          "execution_count": 36
        }
      ]
    },
    {
      "cell_type": "markdown",
      "metadata": {
        "id": "iCXpya1CkhHf"
      },
      "source": [
        "Scores can be found using the dot product."
      ]
    },
    {
      "cell_type": "code",
      "execution_count": 38,
      "metadata": {
        "id": "U6JyrGf7khHg"
      },
      "outputs": [],
      "source": [
        "# create an embedding for users and products \n",
        "\n",
        "# pass in list length of dummy users\n",
        "dummy_user_embedding = tf.keras.layers.Embedding(len(dummy_users), 6)\n",
        "product_embedding = tf.keras.layers.Embedding(len(products), 6)"
      ]
    },
    {
      "cell_type": "code",
      "source": [
        "# find embedding from first user\n",
        "dummy_user_embedding(1)\n"
      ],
      "metadata": {
        "colab": {
          "base_uri": "https://localhost:8080/"
        },
        "id": "p3GD5uWSbGP3",
        "outputId": "9694f17b-fa97-4c1a-e305-14fafc54eb11"
      },
      "execution_count": 41,
      "outputs": [
        {
          "output_type": "execute_result",
          "data": {
            "text/plain": [
              "<tf.Tensor: shape=(6,), dtype=float32, numpy=\n",
              "array([ 0.02040986, -0.03331436,  0.01280453, -0.04748262,  0.02327034,\n",
              "        0.00638724], dtype=float32)>"
            ]
          },
          "metadata": {},
          "execution_count": 41
        }
      ]
    },
    {
      "cell_type": "code",
      "source": [
        "# grab embeddings of a specific product \n",
        "product_embedding(20)"
      ],
      "metadata": {
        "colab": {
          "base_uri": "https://localhost:8080/"
        },
        "id": "ZzFIUnicbS2k",
        "outputId": "d921d719-e935-446a-8c85-ee2af287bb02"
      },
      "execution_count": 42,
      "outputs": [
        {
          "output_type": "execute_result",
          "data": {
            "text/plain": [
              "<tf.Tensor: shape=(6,), dtype=float32, numpy=\n",
              "array([-0.01519806,  0.00334023,  0.01265842, -0.01361679, -0.03619184,\n",
              "       -0.03142122], dtype=float32)>"
            ]
          },
          "metadata": {},
          "execution_count": 42
        }
      ]
    },
    {
      "cell_type": "code",
      "source": [
        "# multiply the product embedding and user embedding together \n",
        "tf.tensordot(dummy_user_embedding(1), product_embedding(20), axes=[[0], [0]])"
      ],
      "metadata": {
        "colab": {
          "base_uri": "https://localhost:8080/"
        },
        "id": "uAe2GnU4bS5l",
        "outputId": "6c5944b4-dc45-41ee-c4fc-817924346aff"
      },
      "execution_count": 45,
      "outputs": [
        {
          "output_type": "execute_result",
          "data": {
            "text/plain": [
              "<tf.Tensor: shape=(), dtype=float32, numpy=-0.00065571367>"
            ]
          },
          "metadata": {},
          "execution_count": 45
        }
      ]
    },
    {
      "cell_type": "markdown",
      "metadata": {
        "id": "7__e1aDkkhHg"
      },
      "source": [
        "We can score multiple products at the same time, which is what we need to create a ranking."
      ]
    },
    {
      "cell_type": "code",
      "execution_count": 46,
      "metadata": {
        "id": "x_RwPWUIkhHg",
        "colab": {
          "base_uri": "https://localhost:8080/"
        },
        "outputId": "45d82bc3-af4f-4d91-b5d0-a9c185472579"
      },
      "outputs": [
        {
          "output_type": "execute_result",
          "data": {
            "text/plain": [
              "<tf.Tensor: shape=(4, 6), dtype=float32, numpy=\n",
              "array([[ 0.04267508,  0.03982818,  0.0268993 , -0.04055069, -0.02315345,\n",
              "        -0.04049768],\n",
              "       [-0.04584204, -0.02910911, -0.04349979, -0.00588558,  0.00326096,\n",
              "        -0.04877746],\n",
              "       [ 0.03768641, -0.03590404,  0.04858345, -0.03359304, -0.02642949,\n",
              "        -0.0246422 ],\n",
              "       [-0.04525249,  0.03269703, -0.04453097,  0.0077301 ,  0.04832972,\n",
              "         0.00418402]], dtype=float32)>"
            ]
          },
          "metadata": {},
          "execution_count": 46
        }
      ],
      "source": [
        "example_products = tf.constant([1, 77, 104, 2043])\n",
        "product_embedding(example_products)"
      ]
    },
    {
      "cell_type": "markdown",
      "metadata": {
        "id": "cVZ55IFXkhHg"
      },
      "source": [
        "And we can score multiple users for multiple products which we will need to do if we are to train quickly."
      ]
    },
    {
      "cell_type": "code",
      "source": [
        "tf.tensordot(dummy_user_embedding(1), product_embedding(example_products), axes=[[0], [1]])\n"
      ],
      "metadata": {
        "colab": {
          "base_uri": "https://localhost:8080/"
        },
        "id": "vr7kpA4_b73S",
        "outputId": "bd358e09-7f62-44cb-c017-a3a3b4955f12"
      },
      "execution_count": 47,
      "outputs": [
        {
          "output_type": "execute_result",
          "data": {
            "text/plain": [
              "<tf.Tensor: shape=(4,), dtype=float32, numpy=array([ 0.00101657, -0.00047908,  0.00341005, -0.00179875], dtype=float32)>"
            ]
          },
          "metadata": {},
          "execution_count": 47
        }
      ]
    },
    {
      "cell_type": "code",
      "execution_count": null,
      "metadata": {
        "id": "Q6tVSuL4khHg"
      },
      "outputs": [],
      "source": [
        ""
      ]
    },
    {
      "cell_type": "markdown",
      "metadata": {
        "id": "DAwQQHb3khHg"
      },
      "source": [
        "But we need to map product ids to embedding ids."
      ]
    },
    {
      "cell_type": "code",
      "source": [
        "products"
      ],
      "metadata": {
        "colab": {
          "base_uri": "https://localhost:8080/"
        },
        "id": "fdsneHRncuxI",
        "outputId": "c5c9275a-1775-499d-8e86-1f7b8f3a61e0"
      },
      "execution_count": 51,
      "outputs": [
        {
          "output_type": "execute_result",
          "data": {
            "text/plain": [
              "array([ 8650774,  9306139,  9961521, ..., 12058614, 12058615, 11927550])"
            ]
          },
          "metadata": {},
          "execution_count": 51
        }
      ]
    },
    {
      "cell_type": "code",
      "source": [
        ""
      ],
      "metadata": {
        "id": "hrYtzfMOcuZF"
      },
      "execution_count": null,
      "outputs": []
    },
    {
      "cell_type": "code",
      "execution_count": 52,
      "metadata": {
        "id": "0XxfkcTOkhHh"
      },
      "outputs": [],
      "source": [
        "# need a way to convert list of products into a hashtable to grab them by their name\n",
        "product_table = tf.lookup.StaticHashTable(\n",
        "    tf.lookup.KeyValueTensorInitializer(tf.constant(products, dtype=tf.int32), \n",
        "                                        range(len(products))), -1)"
      ]
    },
    {
      "cell_type": "code",
      "source": [
        "product_table.lookup(tf.constant([8650774]))"
      ],
      "metadata": {
        "colab": {
          "base_uri": "https://localhost:8080/"
        },
        "id": "3xhZ6Q2MdicW",
        "outputId": "f71362e9-d176-4cfa-ecd9-5fedf6229dfa"
      },
      "execution_count": 53,
      "outputs": [
        {
          "output_type": "execute_result",
          "data": {
            "text/plain": [
              "<tf.Tensor: shape=(1,), dtype=int32, numpy=array([0], dtype=int32)>"
            ]
          },
          "metadata": {},
          "execution_count": 53
        }
      ]
    },
    {
      "cell_type": "markdown",
      "metadata": {
        "id": "frocAfWzkhHh"
      },
      "source": [
        "Let's put those two things together"
      ]
    },
    {
      "cell_type": "code",
      "execution_count": 113,
      "metadata": {
        "id": "3jnpR6NHkhHh"
      },
      "outputs": [],
      "source": [
        "class RecommenderModel(tf.keras.Model):\n",
        "    def __init__(self, dummy_users, products, length_of_embedding):\n",
        "        super(RecommenderModel, self).__init__()\n",
        "        self.products = tf.constant(products, dtype=tf.int32)\n",
        "        self.dummy_users = tf.constant(dummy_users, dtype=tf.string)\n",
        "        self.dummy_user_table = tf.lookup.StaticHashTable(tf.lookup.KeyValueTensorInitializer(self.dummy_users, range(len(dummy_users))), -1)\n",
        "        self.product_table = tf.lookup.StaticHashTable(tf.lookup.KeyValueTensorInitializer(self.products, range(len(products))), -1)\n",
        "        \n",
        "        self.user_embedding = tf.keras.layers.Embedding(len(dummy_users), length_of_embedding)\n",
        "        self.product_embedding = tf.keras.layers.Embedding(len(products), length_of_embedding)\n",
        "        \n",
        "        # used to calculat dot product\n",
        "        self.dot = tf.keras.layers.Dot(axes=-1)\n",
        "\n",
        "\n",
        "    def call(self, inputs):\n",
        "        user = inputs[0]\n",
        "        products = inputs[1]\n",
        "        \n",
        "        # lookup in the table \n",
        "        user_embedding_index = self.dummy_user_table.lookup(user)\n",
        "        product_embedding_index = self.product_table.lookup(products)\n",
        "\n",
        "        user_embedding_values = self.user_embedding(user_embedding_index)\n",
        "        product_embedding_values = self.product_embedding(product_embedding_index)\n",
        "\n",
        "        return tf.squeeze(self.dot([user_embedding_values, product_embedding_values]))\n",
        "\n",
        "    \n",
        "    @tf.function\n",
        "    def call_item_item(self, product):\n",
        "        product_x = self.product_table.lookup(product)\n",
        "        pe = tf.expand_dims(self.product_embedding(product_x), 0)\n",
        "        \n",
        "        all_pe = tf.expand_dims(self.product_embedding.embeddings, 0)#note this only works if the layer has been built!\n",
        "        scores = tf.reshape(self.dot([pe, all_pe]), [-1])\n",
        "        \n",
        "        top_scores, top_indices = tf.math.top_k(scores, k=100)\n",
        "        top_ids = tf.gather(self.products, top_indices)\n",
        "        return top_ids, top_scores"
      ]
    },
    {
      "cell_type": "code",
      "source": [
        "dummy_users"
      ],
      "metadata": {
        "colab": {
          "base_uri": "https://localhost:8080/"
        },
        "id": "dzKDys4wfxmc",
        "outputId": "709f4ce6-73fe-4093-ee12-964c18be56fa"
      },
      "execution_count": 114,
      "outputs": [
        {
          "output_type": "execute_result",
          "data": {
            "text/plain": [
              "array(['pmfkU4BNZhmtLgJQwJ7x', 'UDRRwOlzlWVbu7H8YCCi',\n",
              "       'QHGAef0TI6dhn0wTogvW', ..., 'lcORJ5hemOZc1iGo9z7k',\n",
              "       '5CqDquDAszqJp27P7AL8', 'SSPNYxJMfuKhoe1dg24m'], dtype='<U20')"
            ]
          },
          "metadata": {},
          "execution_count": 114
        }
      ]
    },
    {
      "cell_type": "code",
      "source": [
        "products"
      ],
      "metadata": {
        "colab": {
          "base_uri": "https://localhost:8080/"
        },
        "id": "YR6c0uiPgdi1",
        "outputId": "a7469fde-78fd-4ae6-8781-cd908ea3b0a9"
      },
      "execution_count": 115,
      "outputs": [
        {
          "output_type": "execute_result",
          "data": {
            "text/plain": [
              "array([ 8650774,  9306139,  9961521, ..., 12058614, 12058615, 11927550])"
            ]
          },
          "metadata": {},
          "execution_count": 115
        }
      ]
    },
    {
      "cell_type": "code",
      "source": [
        "rec1 = RecommenderModel(dummy_users, products, length_of_embedding=15)\n",
        "\n",
        "# create recommendation scores for two different users starting with largest value to the first values\n",
        "rec1([tf.constant([['pmfkU4BNZhmtLgJQwJ7x'], ['UDRRwOlzlWVbu7H8YCCi']]), \n",
        "      tf.constant([[8650774, 9306139,9961521],[12058614, 12058615, 11927550] ])])"
      ],
      "metadata": {
        "colab": {
          "base_uri": "https://localhost:8080/"
        },
        "id": "-P61qMHdfknx",
        "outputId": "a6cf286e-3781-4598-ac25-8b211d9f7570"
      },
      "execution_count": 116,
      "outputs": [
        {
          "output_type": "execute_result",
          "data": {
            "text/plain": [
              "<tf.Tensor: shape=(2, 3), dtype=float32, numpy=\n",
              "array([[-0.0037846 ,  0.00558789, -0.01052617],\n",
              "       [-0.00210104,  0.00572162, -0.00126659]], dtype=float32)>"
            ]
          },
          "metadata": {},
          "execution_count": 116
        }
      ]
    },
    {
      "cell_type": "markdown",
      "metadata": {
        "id": "E2RTAuSBkhHi"
      },
      "source": [
        "# Creating a dataset"
      ]
    },
    {
      "cell_type": "markdown",
      "metadata": {
        "id": "bhlpTnthkhHi"
      },
      "source": [
        "First create a tf.data.Dataset from the user purchase pairs."
      ]
    },
    {
      "cell_type": "code",
      "execution_count": 117,
      "metadata": {
        "id": "JudUlztUkhHi",
        "colab": {
          "base_uri": "https://localhost:8080/"
        },
        "outputId": "9a3c8fde-d01f-4e7b-d7e4-fed981b069ac"
      },
      "outputs": [
        {
          "output_type": "stream",
          "name": "stdout",
          "text": [
            "tf.Tensor([b'PIXcm7Ru5KmntCy0yA1K'], shape=(1,), dtype=string)\n",
            "tf.Tensor([10524048], shape=(1,), dtype=int32)\n"
          ]
        }
      ],
      "source": [
        "dummy_user_tensor = tf.constant(train[[\"dummyUserId\"]].values, dtype=tf.string)\n",
        "product_tensor = tf.constant(train[[\"productId\"]].values, dtype=tf.int32)\n",
        "\n",
        "dataset = tf.data.Dataset.from_tensor_slices((dummy_user_tensor, product_tensor))\n",
        "for x, y in dataset:\n",
        "    print(x)\n",
        "    print(y)\n",
        "    break"
      ]
    },
    {
      "cell_type": "code",
      "source": [
        "products"
      ],
      "metadata": {
        "colab": {
          "base_uri": "https://localhost:8080/"
        },
        "id": "TrE7wecRixwc",
        "outputId": "eb77a0a0-2f8b-4a35-d5c9-68b4ac9aded3"
      },
      "execution_count": 118,
      "outputs": [
        {
          "output_type": "execute_result",
          "data": {
            "text/plain": [
              "array([ 8650774,  9306139,  9961521, ..., 12058614, 12058615, 11927550])"
            ]
          },
          "metadata": {},
          "execution_count": 118
        }
      ]
    },
    {
      "cell_type": "code",
      "source": [
        "random_negative_indexs = tf.random.uniform((7, ), minval=0, maxval=len(products), dtype=tf.int32) \n",
        "\n",
        "random_negative_indexs"
      ],
      "metadata": {
        "colab": {
          "base_uri": "https://localhost:8080/"
        },
        "id": "DFO1HIxpiz82",
        "outputId": "848d791e-ce3e-40c4-ef62-60dfea8241b9"
      },
      "execution_count": 119,
      "outputs": [
        {
          "output_type": "execute_result",
          "data": {
            "text/plain": [
              "<tf.Tensor: shape=(7,), dtype=int32, numpy=array([20374, 10080, 14368, 13489, 19487, 26080, 22378], dtype=int32)>"
            ]
          },
          "metadata": {},
          "execution_count": 119
        }
      ]
    },
    {
      "cell_type": "code",
      "source": [
        "tf.gather(products, random_negative_indexs)"
      ],
      "metadata": {
        "colab": {
          "base_uri": "https://localhost:8080/"
        },
        "id": "_76n5j8fjHy-",
        "outputId": "67761ffa-835f-446d-951a-f516ba8bd152"
      },
      "execution_count": 120,
      "outputs": [
        {
          "output_type": "execute_result",
          "data": {
            "text/plain": [
              "<tf.Tensor: shape=(7,), dtype=int64, numpy=\n",
              "array([10183845, 12759006,  9239049, 11725466, 10179766, 12175103,\n",
              "       12420888])>"
            ]
          },
          "metadata": {},
          "execution_count": 120
        }
      ]
    },
    {
      "cell_type": "code",
      "source": [
        "products[18218]"
      ],
      "metadata": {
        "colab": {
          "base_uri": "https://localhost:8080/"
        },
        "id": "aBKfA7yXjRKa",
        "outputId": "ab503d25-cf81-4318-bc2d-98e90c75eff2"
      },
      "execution_count": 121,
      "outputs": [
        {
          "output_type": "execute_result",
          "data": {
            "text/plain": [
              "10698347"
            ]
          },
          "metadata": {},
          "execution_count": 121
        }
      ]
    },
    {
      "cell_type": "markdown",
      "metadata": {
        "id": "jRqDdLaNkhHj"
      },
      "source": [
        "For each purchase let's sample a number of products that the user did not purchase. Then the model can score each of the products and we will know we are doing a good job if the product with the highest score is the product that the user actually purchased.\n",
        "\n",
        "We can do this using dataset.map"
      ]
    },
    {
      "cell_type": "code",
      "source": [
        "tf.one_hot(0, depth=11)"
      ],
      "metadata": {
        "colab": {
          "base_uri": "https://localhost:8080/"
        },
        "id": "dRHqj8iYkxsF",
        "outputId": "d32963ab-ec7a-4e5e-8b89-eb49965a25a8"
      },
      "execution_count": 122,
      "outputs": [
        {
          "output_type": "execute_result",
          "data": {
            "text/plain": [
              "<tf.Tensor: shape=(11,), dtype=float32, numpy=array([1., 0., 0., 0., 0., 0., 0., 0., 0., 0., 0.], dtype=float32)>"
            ]
          },
          "metadata": {},
          "execution_count": 122
        }
      ]
    },
    {
      "cell_type": "code",
      "execution_count": 123,
      "metadata": {
        "id": "jrszOlLKkhHj"
      },
      "outputs": [],
      "source": [
        "class Mapper():\n",
        "    \n",
        "    def __init__(self, possible_products, num_negative_products):\n",
        "        self.num_possible_products = len(possible_products)\n",
        "        self.possible_products_tensor = tf.constant(possible_products, dtype=tf.int32)\n",
        "        \n",
        "        self.num_negative_products = num_negative_products\n",
        "        self.y = tf.one_hot(0, num_negative_products+1)\n",
        "    \n",
        "    def __call__(self, user, product):\n",
        "      # gives us a list of indexes of products the user didn't buy \n",
        "      random_negative_indexs = tf.random.uniform((self.num_negative_products, ), minval=0, maxval=self.num_possible_products, dtype=tf.int32) \n",
        "\n",
        "      negatives = tf.gather(self.possible_products_tensor, random_negative_indexs)\n",
        "\n",
        "      candidates = tf.concat([product, negatives], axis=0)\n",
        "      \n",
        "      return (user, candidates), self.y\n"
      ]
    },
    {
      "cell_type": "code",
      "source": [
        "# get a new dataset with all the products the user did and didn't purchase \n",
        "dataset = tf.data.Dataset.from_tensor_slices((dummy_user_tensor, product_tensor)).map(Mapper(products, 10))\n",
        "\n",
        "dataset"
      ],
      "metadata": {
        "colab": {
          "base_uri": "https://localhost:8080/"
        },
        "id": "-kSUhv_6kNgA",
        "outputId": "1d9048de-0fa9-4467-b1aa-7750fbf35e77"
      },
      "execution_count": 124,
      "outputs": [
        {
          "output_type": "execute_result",
          "data": {
            "text/plain": [
              "<MapDataset shapes: (((1,), (11,)), (11,)), types: ((tf.string, tf.int32), tf.float32)>"
            ]
          },
          "metadata": {},
          "execution_count": 124
        }
      ]
    },
    {
      "cell_type": "code",
      "source": [
        "for (u, c), y in dataset:\n",
        "  print(u)\n",
        "  print(\"1 product they bought and 10 they didn't buy\",c)\n",
        "  print(\"one hot encoded values for what they bought\",y)\n",
        "  break"
      ],
      "metadata": {
        "colab": {
          "base_uri": "https://localhost:8080/"
        },
        "id": "n0UcQWznkmYO",
        "outputId": "eb51cd37-d2b1-4985-c56b-2671a255b3c2"
      },
      "execution_count": 125,
      "outputs": [
        {
          "output_type": "stream",
          "name": "stdout",
          "text": [
            "tf.Tensor([b'PIXcm7Ru5KmntCy0yA1K'], shape=(1,), dtype=string)\n",
            "1 product they bought and 10 they didn't buy tf.Tensor(\n",
            "[10524048 11669878 10323312  8379290 11676304 10487341 11407918  9990157\n",
            " 10714419 10591471 11434149], shape=(11,), dtype=int32)\n",
            "one hot encoded values for what they bought tf.Tensor([1. 0. 0. 0. 0. 0. 0. 0. 0. 0. 0.], shape=(11,), dtype=float32)\n"
          ]
        }
      ]
    },
    {
      "cell_type": "code",
      "execution_count": 126,
      "metadata": {
        "id": "84W3K0e8khHj"
      },
      "outputs": [],
      "source": [
        "def get_dataset(df, products, num_negative_products):\n",
        "    dummy_user_tensor = tf.constant(df[[\"dummyUserId\"]].values, dtype=tf.string)\n",
        "    product_tensor = tf.constant(df[[\"productId\"]].values, dtype=tf.int32)\n",
        "\n",
        "    dataset = tf.data.Dataset.from_tensor_slices((dummy_user_tensor, product_tensor))\n",
        "\n",
        "    dataset = dataset.map(Mapper(products, num_negative_products))\n",
        "\n",
        "    # learn from multiple users at a time instead of one\n",
        "    dataset = dataset.batch(1024)\n",
        "\n",
        "    return dataset\n",
        "\n"
      ]
    },
    {
      "cell_type": "code",
      "source": [
        "for (u, c), y in get_dataset(train, products, 4):\n",
        "  print(u)\n",
        "  print(c)\n",
        "  print(y)\n",
        "  break"
      ],
      "metadata": {
        "colab": {
          "base_uri": "https://localhost:8080/"
        },
        "id": "geRN04Udlv8y",
        "outputId": "ab8fa9bd-fa7f-448e-c830-f29271e1ada2"
      },
      "execution_count": 127,
      "outputs": [
        {
          "output_type": "stream",
          "name": "stdout",
          "text": [
            "tf.Tensor(\n",
            "[[b'PIXcm7Ru5KmntCy0yA1K']\n",
            " [b'd0RILFB1hUzNSINMY4Ow']\n",
            " [b'Ebax7lyhnKRm4xeRlWW2']\n",
            " ...\n",
            " [b'xuX9n8PHfSR0AP3UZ8ar']\n",
            " [b'iNnxsPFfOa9884fMjVPJ']\n",
            " [b'aD8Mn12im8lFPzXAY41P']], shape=(1024, 1), dtype=string)\n",
            "tf.Tensor(\n",
            "[[10524048 10702429 11394611 12963332 10647908]\n",
            " [ 9137713 11242424 10997347 10220706 10741283]\n",
            " [ 5808602 12733534 10693892 11446616 12049340]\n",
            " ...\n",
            " [11541336 10696742  9533975  8725708 11055311]\n",
            " [ 7779232 13097911 10854998 10279506  9135671]\n",
            " [ 4941259 10421356 10195683 10474018 12224463]], shape=(1024, 5), dtype=int32)\n",
            "tf.Tensor(\n",
            "[[1. 0. 0. 0. 0.]\n",
            " [1. 0. 0. 0. 0.]\n",
            " [1. 0. 0. 0. 0.]\n",
            " ...\n",
            " [1. 0. 0. 0. 0.]\n",
            " [1. 0. 0. 0. 0.]\n",
            " [1. 0. 0. 0. 0.]], shape=(1024, 5), dtype=float32)\n"
          ]
        }
      ]
    },
    {
      "cell_type": "markdown",
      "metadata": {
        "id": "esrSTL8kkhHj"
      },
      "source": [
        "# Train a model"
      ]
    },
    {
      "cell_type": "markdown",
      "metadata": {
        "id": "GjqMoK7UkhHj"
      },
      "source": [
        "We need to compile a model, set the loss and create an evaluation metric. Then we need to train the model."
      ]
    },
    {
      "cell_type": "code",
      "execution_count": 136,
      "metadata": {
        "id": "zWQNEO9AkhHk",
        "colab": {
          "base_uri": "https://localhost:8080/"
        },
        "outputId": "baf49348-ba7d-44b9-ec85-370eb3ace079"
      },
      "outputs": [
        {
          "output_type": "stream",
          "name": "stdout",
          "text": [
            "162/162 [==============================] - 13s 70ms/step - loss: 4.6151 - categorical_accuracy: 0.0133 - val_loss: 4.6151 - val_categorical_accuracy: 0.0170\n"
          ]
        },
        {
          "output_type": "execute_result",
          "data": {
            "text/plain": [
              "<keras.callbacks.History at 0x7ff48485ac10>"
            ]
          },
          "metadata": {},
          "execution_count": 136
        }
      ],
      "source": [
        "model = RecommenderModel(dummy_users, products, 15)\n",
        "# pass in loss func for what we're trying to optimize: turning problem into classification problem to predict purchased product\n",
        "# vs not purchased \n",
        "model.compile(loss=tf.keras.losses.CategoricalCrossentropy(from_logits=True), # want actual scores \n",
        "              optimizer=tf.keras.optimizers.SGD(learning_rate=100), # look for direction on things that change the most\n",
        "              metrics = [tf.keras.metrics.CategoricalAccuracy()])\n",
        "\n",
        "model.fit(get_dataset(train, products, 100), validation_data = get_dataset(valid, products, 100), epochs=1)"
      ]
    },
    {
      "cell_type": "markdown",
      "metadata": {
        "id": "fPmS3DZbkhHk"
      },
      "source": [
        "Let's do a manual check on whether the model is any good."
      ]
    },
    {
      "cell_type": "code",
      "execution_count": 137,
      "metadata": {
        "id": "mv-0Cp0ukhHk"
      },
      "outputs": [],
      "source": [
        "test_product = 11698965"
      ]
    },
    {
      "cell_type": "code",
      "execution_count": 138,
      "metadata": {
        "id": "oTZZK5D3khHk",
        "colab": {
          "base_uri": "https://localhost:8080/"
        },
        "outputId": "3a1a09b7-e92f-4975-b653-65642e87d4fc"
      },
      "outputs": [
        {
          "output_type": "stream",
          "name": "stdout",
          "text": [
            "Recs for item 11698965: (<tf.Tensor: shape=(100,), dtype=int32, numpy=\n",
            "array([10352144, 11465462, 11276465,  7413512, 11698965,  4275756,\n",
            "       10717559, 11178987,  9968967, 10338206, 10486747, 10319340,\n",
            "        5801178, 10424334, 10219206, 11512016,  8548776, 10024101,\n",
            "       10292598, 13566620, 10737036, 10824306, 10933032,  9526493,\n",
            "        8084932, 10552208, 10994996, 10437097, 10477551, 12794478,\n",
            "        9561677,  8752501,  9790133, 12947966, 11574737,  9439693,\n",
            "       10984318,  9000169, 11473317, 10484392, 12747757, 10158192,\n",
            "        9184017, 10970833, 11439705, 11880446, 11610155,  9168531,\n",
            "        9229793, 10998890,  8770580, 10922273,  9177594, 13226228,\n",
            "       11406238,  9554798, 11462825,  8884242,  8290010, 11209785,\n",
            "       12940879,  8730081,  9904770, 11985464, 10478656, 13038678,\n",
            "       11156089, 10308533, 11363430, 11255099, 11659469,  8646710,\n",
            "       12966809, 12875989, 11187918,  9459817,  9349294, 10808998,\n",
            "        8782953, 13773314,  9375812,  8579194, 12746074,  9147634,\n",
            "       10686243, 11846536, 10997617, 13432861, 11209147,  9876725,\n",
            "       12093808, 10375064, 11918663, 10908810,  9791251, 12453622,\n",
            "       12156996,  9034643, 10857450, 10154254], dtype=int32)>, <tf.Tensor: shape=(100,), dtype=float32, numpy=\n",
            "array([0.01089988, 0.01082317, 0.01071396, 0.01070667, 0.01040961,\n",
            "       0.01036368, 0.01029892, 0.01023952, 0.01009215, 0.01007913,\n",
            "       0.00982842, 0.0098229 , 0.00970014, 0.00968187, 0.00965807,\n",
            "       0.00964289, 0.00953725, 0.00945844, 0.00944464, 0.00942654,\n",
            "       0.0093633 , 0.00927073, 0.00925594, 0.00922059, 0.00921709,\n",
            "       0.00918477, 0.0091313 , 0.00905616, 0.00905421, 0.00905113,\n",
            "       0.00904276, 0.00903308, 0.00898231, 0.00896508, 0.00895735,\n",
            "       0.00892396, 0.00891405, 0.00886458, 0.0088642 , 0.00885969,\n",
            "       0.00883925, 0.00880685, 0.00875522, 0.00874386, 0.00871529,\n",
            "       0.00870618, 0.00867012, 0.00865003, 0.00864768, 0.0086366 ,\n",
            "       0.00863068, 0.00862326, 0.00856704, 0.00856174, 0.00855592,\n",
            "       0.00853064, 0.00852267, 0.0085218 , 0.008507  , 0.00848801,\n",
            "       0.00848402, 0.00846325, 0.0084546 , 0.00845407, 0.00844154,\n",
            "       0.00840431, 0.00838824, 0.00837287, 0.00834622, 0.00833995,\n",
            "       0.00833066, 0.00831655, 0.00829099, 0.00828483, 0.00827154,\n",
            "       0.00827082, 0.00826262, 0.00825825, 0.00825767, 0.00824107,\n",
            "       0.0082222 , 0.00821624, 0.00821469, 0.00820252, 0.00817106,\n",
            "       0.00816808, 0.00816552, 0.00816085, 0.00815697, 0.00814016,\n",
            "       0.00813889, 0.00813208, 0.00812284, 0.00811284, 0.00810242,\n",
            "       0.00809095, 0.00808038, 0.00807906, 0.00806721, 0.0080624 ],\n",
            "      dtype=float32)>)\n"
          ]
        }
      ],
      "source": [
        "print(\"Recs for item {}: {}\".format(test_product, model.call_item_item(tf.constant(test_product, dtype=tf.int32))))"
      ]
    },
    {
      "cell_type": "code",
      "source": [
        ""
      ],
      "metadata": {
        "id": "Xc_KChulodUE"
      },
      "execution_count": null,
      "outputs": []
    }
  ],
  "metadata": {
    "kernelspec": {
      "display_name": "Python 3",
      "language": "python",
      "name": "python3"
    },
    "language_info": {
      "codemirror_mode": {
        "name": "ipython",
        "version": 3
      },
      "file_extension": ".py",
      "mimetype": "text/x-python",
      "name": "python",
      "nbconvert_exporter": "python",
      "pygments_lexer": "ipython3",
      "version": "3.7.1"
    },
    "colab": {
      "name": "Recommender From Scratch Tensorflow.ipynb",
      "provenance": [],
      "include_colab_link": true
    }
  },
  "nbformat": 4,
  "nbformat_minor": 0
}